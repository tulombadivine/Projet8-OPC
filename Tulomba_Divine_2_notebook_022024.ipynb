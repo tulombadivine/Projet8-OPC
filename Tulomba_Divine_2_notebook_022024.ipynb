{
 "cells": [
  {
   "cell_type": "markdown",
   "id": "aa227cc6",
   "metadata": {},
   "source": [
    "# Mode Cloud \n",
    "* Ce Notebook permet d'extraire les feature du dataset composé de 131 dossier d'images de fruitsdifférents. 22688 images au total.\n",
    "* L'extraction des feature est réalisée grâce au réseau de neurones MobilNEt V2\n",
    "* Les features sont stockés au format parquet \n",
    "* Puis un PCA est réalisé afin de réduire les dimension"
   ]
  },
  {
   "cell_type": "markdown",
   "id": "84ca2990",
   "metadata": {},
   "source": [
    "### 4.10.2 Installation des packages\n",
    "\n",
    "Les packages nécessaires ont été installé via l'étape de **bootstrap** à l'instanciation du serveur.\n",
    "\n",
    "### 4.10.3 Import des librairies"
   ]
  },
  {
   "cell_type": "code",
   "execution_count": 1,
   "id": "0b689852",
   "metadata": {
    "scrolled": true
   },
   "outputs": [],
   "source": [
    "# L'exécution de cette cellule démarre l'application Spark"
   ]
  },
  {
   "cell_type": "code",
   "execution_count": 1,
   "id": "0cdf2766",
   "metadata": {},
   "outputs": [
    {
     "name": "stdout",
     "output_type": "stream",
     "text": [
      "Starting Spark application\n"
     ]
    },
    {
     "data": {
      "text/html": [
       "<table>\n",
       "<tr><th>ID</th><th>YARN Application ID</th><th>Kind</th><th>State</th><th>Spark UI</th><th>Driver log</th><th>Current session?</th></tr><tr><td>1</td><td>application_1685522011997_0003</td><td>pyspark</td><td>idle</td><td><a target=\"_blank\" href=\"http://ip-172-31-16-164.eu-west-3.compute.internal:20888/proxy/application_1685522011997_0003/\">Link</a></td><td><a target=\"_blank\" href=\"http://ip-172-31-29-120.eu-west-3.compute.internal:8042/node/containerlogs/container_1685522011997_0003_01_000001/livy\">Link</a></td><td>✔</td></tr></table>"
      ],
      "text/plain": [
       "<IPython.core.display.HTML object>"
      ]
     },
     "metadata": {},
     "output_type": "display_data"
    },
    {
     "data": {
      "application/vnd.jupyter.widget-view+json": {
       "model_id": "",
       "version_major": 2,
       "version_minor": 0
      },
      "text/plain": [
       "FloatProgress(value=0.0, bar_style='info', description='Progress:', layout=Layout(height='25px', width='50%'),…"
      ]
     },
     "metadata": {},
     "output_type": "display_data"
    },
    {
     "name": "stdout",
     "output_type": "stream",
     "text": [
      "SparkSession available as 'spark'.\n"
     ]
    },
    {
     "data": {
      "application/vnd.jupyter.widget-view+json": {
       "model_id": "",
       "version_major": 2,
       "version_minor": 0
      },
      "text/plain": [
       "FloatProgress(value=0.0, bar_style='info', description='Progress:', layout=Layout(height='25px', width='50%'),…"
      ]
     },
     "metadata": {},
     "output_type": "display_data"
    }
   ],
   "source": [
    "import pandas as pd\n",
    "import numpy as np\n",
    "import io\n",
    "import os\n",
    "import tensorflow as tf\n",
    "from PIL import Image\n",
    "from tensorflow.keras.applications.mobilenet_v2 import MobileNetV2, preprocess_input\n",
    "from tensorflow.keras.preprocessing.image import img_to_array\n",
    "from tensorflow.keras import Model\n",
    "from pyspark.sql.functions import col, pandas_udf, PandasUDFType, element_at, split"
   ]
  },
  {
   "cell_type": "code",
   "execution_count": 13,
   "id": "123c4e6a",
   "metadata": {},
   "outputs": [
    {
     "data": {
      "application/vnd.jupyter.widget-view+json": {
       "model_id": "",
       "version_major": 2,
       "version_minor": 0
      },
      "text/plain": [
       "FloatProgress(value=0.0, bar_style='info', description='Progress:', layout=Layout(height='25px', width='50%'),…"
      ]
     },
     "metadata": {},
     "output_type": "display_data"
    }
   ],
   "source": [
    "from pyspark.ml.feature import VectorAssembler, StandardScaler, PCA"
   ]
  },
  {
   "cell_type": "markdown",
   "id": "3aba202f",
   "metadata": {},
   "source": [
    "<u>Affichage des informations sur la session en cours et liens vers Spark UI</u> :"
   ]
  },
  {
   "cell_type": "code",
   "execution_count": 2,
   "id": "fb788991",
   "metadata": {
    "scrolled": true
   },
   "outputs": [
    {
     "data": {
      "text/html": [
       "Current session configs: <tt>{'driverMemory': '1000M', 'executorCores': 2, 'proxyUser': 'jovyan', 'kind': 'pyspark'}</tt><br>"
      ],
      "text/plain": [
       "<IPython.core.display.HTML object>"
      ]
     },
     "metadata": {},
     "output_type": "display_data"
    },
    {
     "data": {
      "text/html": [
       "<table>\n",
       "<tr><th>ID</th><th>YARN Application ID</th><th>Kind</th><th>State</th><th>Spark UI</th><th>Driver log</th><th>Current session?</th></tr><tr><td>11</td><td>application_1685352775435_0013</td><td>pyspark</td><td>dead</td><td><a target=\"_blank\" href=\"http://ip-172-31-26-186.eu-west-3.compute.internal:20888/proxy/application_1685352775435_0013/\">Link</a></td><td><a target=\"_blank\" href=\"http://ip-172-31-26-186.eu-west-3.compute.internal:8188/applicationhistory/logs/ip-172-31-26-41.eu-west-3.compute.internal:8041/container_1685352775435_0013_01_000001/container_1685352775435_0013_01_000001/livy\">Link</a></td><td></td></tr><tr><td>12</td><td>application_1685352775435_0014</td><td>pyspark</td><td>idle</td><td><a target=\"_blank\" href=\"http://ip-172-31-26-186.eu-west-3.compute.internal:20888/proxy/application_1685352775435_0014/\">Link</a></td><td><a target=\"_blank\" href=\"http://ip-172-31-23-73.eu-west-3.compute.internal:8042/node/containerlogs/container_1685352775435_0014_01_000001/livy\">Link</a></td><td>✔</td></tr></table>"
      ],
      "text/plain": [
       "<IPython.core.display.HTML object>"
      ]
     },
     "metadata": {},
     "output_type": "display_data"
    }
   ],
   "source": [
    "%%info"
   ]
  },
  {
   "cell_type": "markdown",
   "id": "83663cbd",
   "metadata": {},
   "source": [
    "### 4.10.4 Définition des PATH pour charger les images et enregistrer les résultats\n",
    "\n",
    "Nous accédons directement à nos **données sur S3** comme si elles étaient **stockées localement**."
   ]
  },
  {
   "cell_type": "code",
   "execution_count": 1,
   "id": "46be859d",
   "metadata": {},
   "outputs": [
    {
     "name": "stdout",
     "output_type": "stream",
     "text": [
      "Starting Spark application\n"
     ]
    },
    {
     "data": {
      "text/html": [
       "<table>\n",
       "<tr><th>ID</th><th>YARN Application ID</th><th>Kind</th><th>State</th><th>Spark UI</th><th>Driver log</th><th>User</th><th>Current session?</th></tr><tr><td>1</td><td>application_1708502544573_0002</td><td>pyspark</td><td>idle</td><td><a target=\"_blank\" href=\"http://ip-172-31-28-157.eu-west-3.compute.internal:20888/proxy/application_1708502544573_0002/\">Link</a></td><td><a target=\"_blank\" href=\"http://ip-172-31-23-11.eu-west-3.compute.internal:8042/node/containerlogs/container_1708502544573_0002_01_000001/livy\">Link</a></td><td>None</td><td>✔</td></tr></table>"
      ],
      "text/plain": [
       "<IPython.core.display.HTML object>"
      ]
     },
     "metadata": {},
     "output_type": "display_data"
    },
    {
     "data": {
      "application/vnd.jupyter.widget-view+json": {
       "model_id": "",
       "version_major": 2,
       "version_minor": 0
      },
      "text/plain": [
       "FloatProgress(value=0.0, bar_style='info', description='Progress:', layout=Layout(height='25px', width='50%'),…"
      ]
     },
     "metadata": {},
     "output_type": "display_data"
    },
    {
     "name": "stdout",
     "output_type": "stream",
     "text": [
      "SparkSession available as 'spark'.\n"
     ]
    },
    {
     "data": {
      "application/vnd.jupyter.widget-view+json": {
       "model_id": "",
       "version_major": 2,
       "version_minor": 0
      },
      "text/plain": [
       "FloatProgress(value=0.0, bar_style='info', description='Progress:', layout=Layout(height='25px', width='50%'),…"
      ]
     },
     "metadata": {},
     "output_type": "display_data"
    },
    {
     "name": "stdout",
     "output_type": "stream",
     "text": [
      "PATH:        s3://sbt-calculsdistribues1\n",
      "PATH_Data:   s3://sbt-calculsdistribues1/Test\n",
      "PATH_Result: s3://sbt-calculsdistribues1/Results-all-2"
     ]
    }
   ],
   "source": [
    "PATH = 's3://sbt-calculsdistribues1'\n",
    "PATH_Data = PATH+'/Test'\n",
    "PATH_Result = PATH+'/Results-all-2'\n",
    "print('PATH:        '+\\\n",
    "      PATH+'\\nPATH_Data:   '+\\\n",
    "      PATH_Data+'\\nPATH_Result: '+PATH_Result)"
   ]
  },
  {
   "cell_type": "markdown",
   "id": "cf883c20",
   "metadata": {},
   "source": [
    "### 4.10.5 Traitement des données"
   ]
  },
  {
   "cell_type": "markdown",
   "id": "2ffe93f5",
   "metadata": {},
   "source": [
    "#### 4.10.5.1 Chargement des données"
   ]
  },
  {
   "cell_type": "code",
   "execution_count": 4,
   "id": "7e4b319a",
   "metadata": {},
   "outputs": [
    {
     "data": {
      "application/vnd.jupyter.widget-view+json": {
       "model_id": "",
       "version_major": 2,
       "version_minor": 0
      },
      "text/plain": [
       "FloatProgress(value=0.0, bar_style='info', description='Progress:', layout=Layout(height='25px', width='50%'),…"
      ]
     },
     "metadata": {},
     "output_type": "display_data"
    }
   ],
   "source": [
    "images = spark.read.format(\"binaryFile\") \\\n",
    "  .option(\"pathGlobFilter\", \"*.jpg\") \\\n",
    "  .option(\"recursiveFileLookup\", \"true\") \\\n",
    "  .load(PATH_Data)"
   ]
  },
  {
   "cell_type": "markdown",
   "id": "8b32ac34",
   "metadata": {},
   "source": [
    "<u>Je ne conserve que le **path** de l'image et j'ajoute <br />\n",
    "    une colonne contenant les **labels** de chaque image</u> :"
   ]
  },
  {
   "cell_type": "code",
   "execution_count": 7,
   "id": "a52ab808",
   "metadata": {},
   "outputs": [
    {
     "data": {
      "application/vnd.jupyter.widget-view+json": {
       "model_id": "",
       "version_major": 2,
       "version_minor": 0
      },
      "text/plain": [
       "FloatProgress(value=0.0, bar_style='info', description='Progress:', layout=Layout(height='25px', width='50%'),…"
      ]
     },
     "metadata": {},
     "output_type": "display_data"
    },
    {
     "name": "stdout",
     "output_type": "stream",
     "text": [
      "root\n",
      " |-- path: string (nullable = true)\n",
      " |-- modificationTime: timestamp (nullable = true)\n",
      " |-- length: long (nullable = true)\n",
      " |-- content: binary (nullable = true)\n",
      " |-- label: string (nullable = true)\n",
      "\n",
      "None\n",
      "+--------------------------------------------------------+----------+\n",
      "|path                                                    |label     |\n",
      "+--------------------------------------------------------+----------+\n",
      "|s3://sbt-calculsdistribues/Test/Watermelon/r_106_100.jpg|Watermelon|\n",
      "|s3://sbt-calculsdistribues/Test/Watermelon/r_109_100.jpg|Watermelon|\n",
      "|s3://sbt-calculsdistribues/Test/Watermelon/r_108_100.jpg|Watermelon|\n",
      "|s3://sbt-calculsdistribues/Test/Watermelon/r_107_100.jpg|Watermelon|\n",
      "|s3://sbt-calculsdistribues/Test/Watermelon/r_95_100.jpg |Watermelon|\n",
      "+--------------------------------------------------------+----------+\n",
      "only showing top 5 rows\n",
      "\n",
      "None"
     ]
    }
   ],
   "source": [
    "images = images.withColumn('label', element_at(split(images['path'], '/'),-2))\n",
    "print(images.printSchema())\n",
    "print(images.select('path','label').show(5,False))"
   ]
  },
  {
   "cell_type": "markdown",
   "id": "8f15b199",
   "metadata": {},
   "source": [
    "#### 4.10.5.2 Préparation du modèle"
   ]
  },
  {
   "cell_type": "code",
   "execution_count": 8,
   "id": "ec7c7165",
   "metadata": {},
   "outputs": [
    {
     "data": {
      "application/vnd.jupyter.widget-view+json": {
       "model_id": "",
       "version_major": 2,
       "version_minor": 0
      },
      "text/plain": [
       "FloatProgress(value=0.0, bar_style='info', description='Progress:', layout=Layout(height='25px', width='50%'),…"
      ]
     },
     "metadata": {},
     "output_type": "display_data"
    },
    {
     "name": "stdout",
     "output_type": "stream",
     "text": [
      "Downloading data from https://storage.googleapis.com/tensorflow/keras-applications/mobilenet_v2/mobilenet_v2_weights_tf_dim_ordering_tf_kernels_1.0_224.h5\n",
      "14540800/14536120 [==============================] - 0s 0us/step"
     ]
    }
   ],
   "source": [
    "model = MobileNetV2(weights='imagenet',\n",
    "                    include_top=True,\n",
    "                    input_shape=(224, 224, 3))"
   ]
  },
  {
   "cell_type": "code",
   "execution_count": 9,
   "id": "1b9bc650",
   "metadata": {},
   "outputs": [
    {
     "data": {
      "application/vnd.jupyter.widget-view+json": {
       "model_id": "",
       "version_major": 2,
       "version_minor": 0
      },
      "text/plain": [
       "FloatProgress(value=0.0, bar_style='info', description='Progress:', layout=Layout(height='25px', width='50%'),…"
      ]
     },
     "metadata": {},
     "output_type": "display_data"
    }
   ],
   "source": [
    "new_model = Model(inputs=model.input,\n",
    "                  outputs=model.layers[-2].output)"
   ]
  },
  {
   "cell_type": "code",
   "execution_count": 10,
   "id": "a0d497f2",
   "metadata": {},
   "outputs": [
    {
     "data": {
      "application/vnd.jupyter.widget-view+json": {
       "model_id": "",
       "version_major": 2,
       "version_minor": 0
      },
      "text/plain": [
       "FloatProgress(value=0.0, bar_style='info', description='Progress:', layout=Layout(height='25px', width='50%'),…"
      ]
     },
     "metadata": {},
     "output_type": "display_data"
    }
   ],
   "source": [
    "brodcast_weights = sc.broadcast(new_model.get_weights())"
   ]
  },
  {
   "cell_type": "code",
   "execution_count": 11,
   "id": "1bc0bf14",
   "metadata": {},
   "outputs": [
    {
     "data": {
      "application/vnd.jupyter.widget-view+json": {
       "model_id": "",
       "version_major": 2,
       "version_minor": 0
      },
      "text/plain": [
       "FloatProgress(value=0.0, bar_style='info', description='Progress:', layout=Layout(height='25px', width='50%'),…"
      ]
     },
     "metadata": {},
     "output_type": "display_data"
    },
    {
     "name": "stdout",
     "output_type": "stream",
     "text": [
      "Model: \"model\"\n",
      "__________________________________________________________________________________________________\n",
      "Layer (type)                    Output Shape         Param #     Connected to                     \n",
      "==================================================================================================\n",
      "input_1 (InputLayer)            [(None, 224, 224, 3) 0                                            \n",
      "__________________________________________________________________________________________________\n",
      "Conv1 (Conv2D)                  (None, 112, 112, 32) 864         input_1[0][0]                    \n",
      "__________________________________________________________________________________________________\n",
      "bn_Conv1 (BatchNormalization)   (None, 112, 112, 32) 128         Conv1[0][0]                      \n",
      "__________________________________________________________________________________________________\n",
      "Conv1_relu (ReLU)               (None, 112, 112, 32) 0           bn_Conv1[0][0]                   \n",
      "__________________________________________________________________________________________________\n",
      "expanded_conv_depthwise (Depthw (None, 112, 112, 32) 288         Conv1_relu[0][0]                 \n",
      "__________________________________________________________________________________________________\n",
      "expanded_conv_depthwise_BN (Bat (None, 112, 112, 32) 128         expanded_conv_depthwise[0][0]    \n",
      "__________________________________________________________________________________________________\n",
      "expanded_conv_depthwise_relu (R (None, 112, 112, 32) 0           expanded_conv_depthwise_BN[0][0] \n",
      "__________________________________________________________________________________________________\n",
      "expanded_conv_project (Conv2D)  (None, 112, 112, 16) 512         expanded_conv_depthwise_relu[0][0\n",
      "__________________________________________________________________________________________________\n",
      "expanded_conv_project_BN (Batch (None, 112, 112, 16) 64          expanded_conv_project[0][0]      \n",
      "__________________________________________________________________________________________________\n",
      "block_1_expand (Conv2D)         (None, 112, 112, 96) 1536        expanded_conv_project_BN[0][0]   \n",
      "__________________________________________________________________________________________________\n",
      "block_1_expand_BN (BatchNormali (None, 112, 112, 96) 384         block_1_expand[0][0]             \n",
      "__________________________________________________________________________________________________\n",
      "block_1_expand_relu (ReLU)      (None, 112, 112, 96) 0           block_1_expand_BN[0][0]          \n",
      "__________________________________________________________________________________________________\n",
      "block_1_pad (ZeroPadding2D)     (None, 113, 113, 96) 0           block_1_expand_relu[0][0]        \n",
      "__________________________________________________________________________________________________\n",
      "block_1_depthwise (DepthwiseCon (None, 56, 56, 96)   864         block_1_pad[0][0]                \n",
      "__________________________________________________________________________________________________\n",
      "block_1_depthwise_BN (BatchNorm (None, 56, 56, 96)   384         block_1_depthwise[0][0]          \n",
      "__________________________________________________________________________________________________\n",
      "block_1_depthwise_relu (ReLU)   (None, 56, 56, 96)   0           block_1_depthwise_BN[0][0]       \n",
      "__________________________________________________________________________________________________\n",
      "block_1_project (Conv2D)        (None, 56, 56, 24)   2304        block_1_depthwise_relu[0][0]     \n",
      "__________________________________________________________________________________________________\n",
      "block_1_project_BN (BatchNormal (None, 56, 56, 24)   96          block_1_project[0][0]            \n",
      "__________________________________________________________________________________________________\n",
      "block_2_expand (Conv2D)         (None, 56, 56, 144)  3456        block_1_project_BN[0][0]         \n",
      "__________________________________________________________________________________________________\n",
      "block_2_expand_BN (BatchNormali (None, 56, 56, 144)  576         block_2_expand[0][0]             \n",
      "__________________________________________________________________________________________________\n",
      "block_2_expand_relu (ReLU)      (None, 56, 56, 144)  0           block_2_expand_BN[0][0]          \n",
      "__________________________________________________________________________________________________\n",
      "block_2_depthwise (DepthwiseCon (None, 56, 56, 144)  1296        block_2_expand_relu[0][0]        \n",
      "__________________________________________________________________________________________________\n",
      "block_2_depthwise_BN (BatchNorm (None, 56, 56, 144)  576         block_2_depthwise[0][0]          \n",
      "__________________________________________________________________________________________________\n",
      "block_2_depthwise_relu (ReLU)   (None, 56, 56, 144)  0           block_2_depthwise_BN[0][0]       \n",
      "__________________________________________________________________________________________________\n",
      "block_2_project (Conv2D)        (None, 56, 56, 24)   3456        block_2_depthwise_relu[0][0]     \n",
      "__________________________________________________________________________________________________\n",
      "block_2_project_BN (BatchNormal (None, 56, 56, 24)   96          block_2_project[0][0]            \n",
      "__________________________________________________________________________________________________\n",
      "block_2_add (Add)               (None, 56, 56, 24)   0           block_1_project_BN[0][0]         \n",
      "                                                                 block_2_project_BN[0][0]         \n",
      "__________________________________________________________________________________________________\n",
      "block_3_expand (Conv2D)         (None, 56, 56, 144)  3456        block_2_add[0][0]                \n",
      "__________________________________________________________________________________________________\n",
      "block_3_expand_BN (BatchNormali (None, 56, 56, 144)  576         block_3_expand[0][0]             \n",
      "__________________________________________________________________________________________________\n",
      "block_3_expand_relu (ReLU)      (None, 56, 56, 144)  0           block_3_expand_BN[0][0]          \n",
      "__________________________________________________________________________________________________\n",
      "block_3_pad (ZeroPadding2D)     (None, 57, 57, 144)  0           block_3_expand_relu[0][0]        \n",
      "__________________________________________________________________________________________________\n",
      "block_3_depthwise (DepthwiseCon (None, 28, 28, 144)  1296        block_3_pad[0][0]                \n",
      "__________________________________________________________________________________________________\n",
      "block_3_depthwise_BN (BatchNorm (None, 28, 28, 144)  576         block_3_depthwise[0][0]          \n",
      "__________________________________________________________________________________________________\n",
      "block_3_depthwise_relu (ReLU)   (None, 28, 28, 144)  0           block_3_depthwise_BN[0][0]       \n",
      "__________________________________________________________________________________________________\n",
      "block_3_project (Conv2D)        (None, 28, 28, 32)   4608        block_3_depthwise_relu[0][0]     \n",
      "__________________________________________________________________________________________________\n",
      "block_3_project_BN (BatchNormal (None, 28, 28, 32)   128         block_3_project[0][0]            \n",
      "__________________________________________________________________________________________________\n",
      "block_4_expand (Conv2D)         (None, 28, 28, 192)  6144        block_3_project_BN[0][0]         \n",
      "__________________________________________________________________________________________________\n",
      "block_4_expand_BN (BatchNormali (None, 28, 28, 192)  768         block_4_expand[0][0]             \n",
      "__________________________________________________________________________________________________\n",
      "block_4_expand_relu (ReLU)      (None, 28, 28, 192)  0           block_4_expand_BN[0][0]          \n",
      "__________________________________________________________________________________________________\n",
      "block_4_depthwise (DepthwiseCon (None, 28, 28, 192)  1728        block_4_expand_relu[0][0]        \n",
      "__________________________________________________________________________________________________\n",
      "block_4_depthwise_BN (BatchNorm (None, 28, 28, 192)  768         block_4_depthwise[0][0]          \n",
      "__________________________________________________________________________________________________\n",
      "block_4_depthwise_relu (ReLU)   (None, 28, 28, 192)  0           block_4_depthwise_BN[0][0]       \n",
      "__________________________________________________________________________________________________\n",
      "block_4_project (Conv2D)        (None, 28, 28, 32)   6144        block_4_depthwise_relu[0][0]     \n",
      "__________________________________________________________________________________________________\n",
      "block_4_project_BN (BatchNormal (None, 28, 28, 32)   128         block_4_project[0][0]            \n",
      "__________________________________________________________________________________________________\n",
      "block_4_add (Add)               (None, 28, 28, 32)   0           block_3_project_BN[0][0]         \n",
      "                                                                 block_4_project_BN[0][0]         \n",
      "__________________________________________________________________________________________________\n",
      "block_5_expand (Conv2D)         (None, 28, 28, 192)  6144        block_4_add[0][0]                \n",
      "__________________________________________________________________________________________________\n",
      "block_5_expand_BN (BatchNormali (None, 28, 28, 192)  768         block_5_expand[0][0]             \n",
      "__________________________________________________________________________________________________\n",
      "block_5_expand_relu (ReLU)      (None, 28, 28, 192)  0           block_5_expand_BN[0][0]          \n",
      "__________________________________________________________________________________________________\n",
      "block_5_depthwise (DepthwiseCon (None, 28, 28, 192)  1728        block_5_expand_relu[0][0]        \n",
      "__________________________________________________________________________________________________\n",
      "block_5_depthwise_BN (BatchNorm (None, 28, 28, 192)  768         block_5_depthwise[0][0]          \n",
      "__________________________________________________________________________________________________\n",
      "block_5_depthwise_relu (ReLU)   (None, 28, 28, 192)  0           block_5_depthwise_BN[0][0]       \n",
      "__________________________________________________________________________________________________\n",
      "block_5_project (Conv2D)        (None, 28, 28, 32)   6144        block_5_depthwise_relu[0][0]     \n",
      "__________________________________________________________________________________________________\n",
      "block_5_project_BN (BatchNormal (None, 28, 28, 32)   128         block_5_project[0][0]            \n",
      "__________________________________________________________________________________________________\n",
      "block_5_add (Add)               (None, 28, 28, 32)   0           block_4_add[0][0]                \n",
      "                                                                 block_5_project_BN[0][0]         \n",
      "__________________________________________________________________________________________________\n",
      "block_6_expand (Conv2D)         (None, 28, 28, 192)  6144        block_5_add[0][0]                \n",
      "__________________________________________________________________________________________________\n",
      "block_6_expand_BN (BatchNormali (None, 28, 28, 192)  768         block_6_expand[0][0]             \n",
      "__________________________________________________________________________________________________\n",
      "block_6_expand_relu (ReLU)      (None, 28, 28, 192)  0           block_6_expand_BN[0][0]          \n",
      "__________________________________________________________________________________________________\n",
      "block_6_pad (ZeroPadding2D)     (None, 29, 29, 192)  0           block_6_expand_relu[0][0]        \n",
      "__________________________________________________________________________________________________\n",
      "block_6_depthwise (DepthwiseCon (None, 14, 14, 192)  1728        block_6_pad[0][0]                \n",
      "__________________________________________________________________________________________________\n",
      "block_6_depthwise_BN (BatchNorm (None, 14, 14, 192)  768         block_6_depthwise[0][0]          \n",
      "__________________________________________________________________________________________________\n",
      "block_6_depthwise_relu (ReLU)   (None, 14, 14, 192)  0           block_6_depthwise_BN[0][0]       \n",
      "__________________________________________________________________________________________________\n",
      "block_6_project (Conv2D)        (None, 14, 14, 64)   12288       block_6_depthwise_relu[0][0]     \n",
      "__________________________________________________________________________________________________\n",
      "block_6_project_BN (BatchNormal (None, 14, 14, 64)   256         block_6_project[0][0]            \n",
      "__________________________________________________________________________________________________\n",
      "block_7_expand (Conv2D)         (None, 14, 14, 384)  24576       block_6_project_BN[0][0]         \n",
      "__________________________________________________________________________________________________\n",
      "block_7_expand_BN (BatchNormali (None, 14, 14, 384)  1536        block_7_expand[0][0]             \n",
      "__________________________________________________________________________________________________\n",
      "block_7_expand_relu (ReLU)      (None, 14, 14, 384)  0           block_7_expand_BN[0][0]          \n",
      "__________________________________________________________________________________________________\n",
      "block_7_depthwise (DepthwiseCon (None, 14, 14, 384)  3456        block_7_expand_relu[0][0]        \n",
      "__________________________________________________________________________________________________\n",
      "block_7_depthwise_BN (BatchNorm (None, 14, 14, 384)  1536        block_7_depthwise[0][0]          \n",
      "__________________________________________________________________________________________________\n",
      "block_7_depthwise_relu (ReLU)   (None, 14, 14, 384)  0           block_7_depthwise_BN[0][0]       \n",
      "__________________________________________________________________________________________________\n",
      "block_7_project (Conv2D)        (None, 14, 14, 64)   24576       block_7_depthwise_relu[0][0]     \n",
      "__________________________________________________________________________________________________\n",
      "block_7_project_BN (BatchNormal (None, 14, 14, 64)   256         block_7_project[0][0]            \n",
      "__________________________________________________________________________________________________\n",
      "block_7_add (Add)               (None, 14, 14, 64)   0           block_6_project_BN[0][0]         \n",
      "                                                                 block_7_project_BN[0][0]         \n",
      "__________________________________________________________________________________________________\n",
      "block_8_expand (Conv2D)         (None, 14, 14, 384)  24576       block_7_add[0][0]                \n",
      "__________________________________________________________________________________________________\n",
      "block_8_expand_BN (BatchNormali (None, 14, 14, 384)  1536        block_8_expand[0][0]             \n",
      "__________________________________________________________________________________________________\n",
      "block_8_expand_relu (ReLU)      (None, 14, 14, 384)  0           block_8_expand_BN[0][0]          \n",
      "__________________________________________________________________________________________________\n",
      "block_8_depthwise (DepthwiseCon (None, 14, 14, 384)  3456        block_8_expand_relu[0][0]        \n",
      "__________________________________________________________________________________________________\n",
      "block_8_depthwise_BN (BatchNorm (None, 14, 14, 384)  1536        block_8_depthwise[0][0]          \n",
      "__________________________________________________________________________________________________\n",
      "block_8_depthwise_relu (ReLU)   (None, 14, 14, 384)  0           block_8_depthwise_BN[0][0]       \n",
      "__________________________________________________________________________________________________\n",
      "block_8_project (Conv2D)        (None, 14, 14, 64)   24576       block_8_depthwise_relu[0][0]     \n",
      "__________________________________________________________________________________________________\n",
      "block_8_project_BN (BatchNormal (None, 14, 14, 64)   256         block_8_project[0][0]            \n",
      "__________________________________________________________________________________________________\n",
      "block_8_add (Add)               (None, 14, 14, 64)   0           block_7_add[0][0]                \n",
      "                                                                 block_8_project_BN[0][0]         \n",
      "__________________________________________________________________________________________________\n",
      "block_9_expand (Conv2D)         (None, 14, 14, 384)  24576       block_8_add[0][0]                \n",
      "__________________________________________________________________________________________________\n",
      "block_9_expand_BN (BatchNormali (None, 14, 14, 384)  1536        block_9_expand[0][0]             \n",
      "__________________________________________________________________________________________________\n",
      "block_9_expand_relu (ReLU)      (None, 14, 14, 384)  0           block_9_expand_BN[0][0]          \n",
      "__________________________________________________________________________________________________\n",
      "block_9_depthwise (DepthwiseCon (None, 14, 14, 384)  3456        block_9_expand_relu[0][0]        \n",
      "__________________________________________________________________________________________________\n",
      "block_9_depthwise_BN (BatchNorm (None, 14, 14, 384)  1536        block_9_depthwise[0][0]          \n",
      "__________________________________________________________________________________________________\n",
      "block_9_depthwise_relu (ReLU)   (None, 14, 14, 384)  0           block_9_depthwise_BN[0][0]       \n",
      "__________________________________________________________________________________________________\n",
      "block_9_project (Conv2D)        (None, 14, 14, 64)   24576       block_9_depthwise_relu[0][0]     \n",
      "__________________________________________________________________________________________________\n",
      "block_9_project_BN (BatchNormal (None, 14, 14, 64)   256         block_9_project[0][0]            \n",
      "__________________________________________________________________________________________________\n",
      "block_9_add (Add)               (None, 14, 14, 64)   0           block_8_add[0][0]                \n",
      "                                                                 block_9_project_BN[0][0]         \n",
      "__________________________________________________________________________________________________\n",
      "block_10_expand (Conv2D)        (None, 14, 14, 384)  24576       block_9_add[0][0]                \n",
      "__________________________________________________________________________________________________\n",
      "block_10_expand_BN (BatchNormal (None, 14, 14, 384)  1536        block_10_expand[0][0]            \n",
      "__________________________________________________________________________________________________\n",
      "block_10_expand_relu (ReLU)     (None, 14, 14, 384)  0           block_10_expand_BN[0][0]         \n",
      "__________________________________________________________________________________________________\n",
      "block_10_depthwise (DepthwiseCo (None, 14, 14, 384)  3456        block_10_expand_relu[0][0]       \n",
      "__________________________________________________________________________________________________\n",
      "block_10_depthwise_BN (BatchNor (None, 14, 14, 384)  1536        block_10_depthwise[0][0]         \n",
      "__________________________________________________________________________________________________\n",
      "block_10_depthwise_relu (ReLU)  (None, 14, 14, 384)  0           block_10_depthwise_BN[0][0]      \n",
      "__________________________________________________________________________________________________\n",
      "block_10_project (Conv2D)       (None, 14, 14, 96)   36864       block_10_depthwise_relu[0][0]    \n",
      "__________________________________________________________________________________________________\n",
      "block_10_project_BN (BatchNorma (None, 14, 14, 96)   384         block_10_project[0][0]           \n",
      "__________________________________________________________________________________________________\n",
      "block_11_expand (Conv2D)        (None, 14, 14, 576)  55296       block_10_project_BN[0][0]        \n",
      "__________________________________________________________________________________________________\n",
      "block_11_expand_BN (BatchNormal (None, 14, 14, 576)  2304        block_11_expand[0][0]            \n",
      "__________________________________________________________________________________________________\n",
      "block_11_expand_relu (ReLU)     (None, 14, 14, 576)  0           block_11_expand_BN[0][0]         \n",
      "__________________________________________________________________________________________________\n",
      "block_11_depthwise (DepthwiseCo (None, 14, 14, 576)  5184        block_11_expand_relu[0][0]       \n",
      "__________________________________________________________________________________________________\n",
      "block_11_depthwise_BN (BatchNor (None, 14, 14, 576)  2304        block_11_depthwise[0][0]         \n",
      "__________________________________________________________________________________________________\n",
      "block_11_depthwise_relu (ReLU)  (None, 14, 14, 576)  0           block_11_depthwise_BN[0][0]      \n",
      "__________________________________________________________________________________________________\n",
      "block_11_project (Conv2D)       (None, 14, 14, 96)   55296       block_11_depthwise_relu[0][0]    \n",
      "__________________________________________________________________________________________________\n",
      "block_11_project_BN (BatchNorma (None, 14, 14, 96)   384         block_11_project[0][0]           \n",
      "__________________________________________________________________________________________________\n",
      "block_11_add (Add)              (None, 14, 14, 96)   0           block_10_project_BN[0][0]        \n",
      "                                                                 block_11_project_BN[0][0]        \n",
      "__________________________________________________________________________________________________\n",
      "block_12_expand (Conv2D)        (None, 14, 14, 576)  55296       block_11_add[0][0]               \n",
      "__________________________________________________________________________________________________\n",
      "block_12_expand_BN (BatchNormal (None, 14, 14, 576)  2304        block_12_expand[0][0]            \n",
      "__________________________________________________________________________________________________\n",
      "block_12_expand_relu (ReLU)     (None, 14, 14, 576)  0           block_12_expand_BN[0][0]         \n",
      "__________________________________________________________________________________________________\n",
      "block_12_depthwise (DepthwiseCo (None, 14, 14, 576)  5184        block_12_expand_relu[0][0]       \n",
      "__________________________________________________________________________________________________\n",
      "block_12_depthwise_BN (BatchNor (None, 14, 14, 576)  2304        block_12_depthwise[0][0]         \n",
      "__________________________________________________________________________________________________\n",
      "block_12_depthwise_relu (ReLU)  (None, 14, 14, 576)  0           block_12_depthwise_BN[0][0]      \n",
      "__________________________________________________________________________________________________\n",
      "block_12_project (Conv2D)       (None, 14, 14, 96)   55296       block_12_depthwise_relu[0][0]    \n",
      "__________________________________________________________________________________________________\n",
      "block_12_project_BN (BatchNorma (None, 14, 14, 96)   384         block_12_project[0][0]           \n",
      "__________________________________________________________________________________________________\n",
      "block_12_add (Add)              (None, 14, 14, 96)   0           block_11_add[0][0]               \n",
      "                                                                 block_12_project_BN[0][0]        \n",
      "__________________________________________________________________________________________________\n",
      "block_13_expand (Conv2D)        (None, 14, 14, 576)  55296       block_12_add[0][0]               \n",
      "__________________________________________________________________________________________________\n",
      "block_13_expand_BN (BatchNormal (None, 14, 14, 576)  2304        block_13_expand[0][0]            \n",
      "__________________________________________________________________________________________________\n",
      "block_13_expand_relu (ReLU)     (None, 14, 14, 576)  0           block_13_expand_BN[0][0]         \n",
      "__________________________________________________________________________________________________\n",
      "block_13_pad (ZeroPadding2D)    (None, 15, 15, 576)  0           block_13_expand_relu[0][0]       \n",
      "__________________________________________________________________________________________________\n",
      "block_13_depthwise (DepthwiseCo (None, 7, 7, 576)    5184        block_13_pad[0][0]               \n",
      "__________________________________________________________________________________________________\n",
      "block_13_depthwise_BN (BatchNor (None, 7, 7, 576)    2304        block_13_depthwise[0][0]         \n",
      "__________________________________________________________________________________________________\n",
      "block_13_depthwise_relu (ReLU)  (None, 7, 7, 576)    0           block_13_depthwise_BN[0][0]      \n",
      "__________________________________________________________________________________________________\n",
      "block_13_project (Conv2D)       (None, 7, 7, 160)    92160       block_13_depthwise_relu[0][0]    \n",
      "__________________________________________________________________________________________________\n",
      "block_13_project_BN (BatchNorma (None, 7, 7, 160)    640         block_13_project[0][0]           \n",
      "__________________________________________________________________________________________________\n",
      "block_14_expand (Conv2D)        (None, 7, 7, 960)    153600      block_13_project_BN[0][0]        \n",
      "__________________________________________________________________________________________________\n",
      "block_14_expand_BN (BatchNormal (None, 7, 7, 960)    3840        block_14_expand[0][0]            \n",
      "__________________________________________________________________________________________________\n",
      "block_14_expand_relu (ReLU)     (None, 7, 7, 960)    0           block_14_expand_BN[0][0]         \n",
      "__________________________________________________________________________________________________\n",
      "block_14_depthwise (DepthwiseCo (None, 7, 7, 960)    8640        block_14_expand_relu[0][0]       \n",
      "__________________________________________________________________________________________________\n",
      "block_14_depthwise_BN (BatchNor (None, 7, 7, 960)    3840        block_14_depthwise[0][0]         \n",
      "__________________________________________________________________________________________________\n",
      "block_14_depthwise_relu (ReLU)  (None, 7, 7, 960)    0           block_14_depthwise_BN[0][0]      \n",
      "__________________________________________________________________________________________________\n",
      "block_14_project (Conv2D)       (None, 7, 7, 160)    153600      block_14_depthwise_relu[0][0]    \n",
      "__________________________________________________________________________________________________\n",
      "block_14_project_BN (BatchNorma (None, 7, 7, 160)    640         block_14_project[0][0]           \n",
      "__________________________________________________________________________________________________\n",
      "block_14_add (Add)              (None, 7, 7, 160)    0           block_13_project_BN[0][0]        \n",
      "                                                                 block_14_project_BN[0][0]        \n",
      "__________________________________________________________________________________________________\n",
      "block_15_expand (Conv2D)        (None, 7, 7, 960)    153600      block_14_add[0][0]               \n",
      "__________________________________________________________________________________________________\n",
      "block_15_expand_BN (BatchNormal (None, 7, 7, 960)    3840        block_15_expand[0][0]            \n",
      "__________________________________________________________________________________________________\n",
      "block_15_expand_relu (ReLU)     (None, 7, 7, 960)    0           block_15_expand_BN[0][0]         \n",
      "__________________________________________________________________________________________________\n",
      "block_15_depthwise (DepthwiseCo (None, 7, 7, 960)    8640        block_15_expand_relu[0][0]       \n",
      "__________________________________________________________________________________________________\n",
      "block_15_depthwise_BN (BatchNor (None, 7, 7, 960)    3840        block_15_depthwise[0][0]         \n",
      "__________________________________________________________________________________________________\n",
      "block_15_depthwise_relu (ReLU)  (None, 7, 7, 960)    0           block_15_depthwise_BN[0][0]      \n",
      "__________________________________________________________________________________________________\n",
      "block_15_project (Conv2D)       (None, 7, 7, 160)    153600      block_15_depthwise_relu[0][0]    \n",
      "__________________________________________________________________________________________________\n",
      "block_15_project_BN (BatchNorma (None, 7, 7, 160)    640         block_15_project[0][0]           \n",
      "__________________________________________________________________________________________________\n",
      "block_15_add (Add)              (None, 7, 7, 160)    0           block_14_add[0][0]               \n",
      "                                                                 block_15_project_BN[0][0]        \n",
      "__________________________________________________________________________________________________\n",
      "block_16_expand (Conv2D)        (None, 7, 7, 960)    153600      block_15_add[0][0]               \n",
      "__________________________________________________________________________________________________\n",
      "block_16_expand_BN (BatchNormal (None, 7, 7, 960)    3840        block_16_expand[0][0]            \n",
      "__________________________________________________________________________________________________\n",
      "block_16_expand_relu (ReLU)     (None, 7, 7, 960)    0           block_16_expand_BN[0][0]         \n",
      "__________________________________________________________________________________________________\n",
      "block_16_depthwise (DepthwiseCo (None, 7, 7, 960)    8640        block_16_expand_relu[0][0]       \n",
      "__________________________________________________________________________________________________\n",
      "block_16_depthwise_BN (BatchNor (None, 7, 7, 960)    3840        block_16_depthwise[0][0]         \n",
      "__________________________________________________________________________________________________\n",
      "block_16_depthwise_relu (ReLU)  (None, 7, 7, 960)    0           block_16_depthwise_BN[0][0]      \n",
      "__________________________________________________________________________________________________\n",
      "block_16_project (Conv2D)       (None, 7, 7, 320)    307200      block_16_depthwise_relu[0][0]    \n",
      "__________________________________________________________________________________________________\n",
      "block_16_project_BN (BatchNorma (None, 7, 7, 320)    1280        block_16_project[0][0]           \n",
      "__________________________________________________________________________________________________\n",
      "Conv_1 (Conv2D)                 (None, 7, 7, 1280)   409600      block_16_project_BN[0][0]        \n",
      "__________________________________________________________________________________________________\n",
      "Conv_1_bn (BatchNormalization)  (None, 7, 7, 1280)   5120        Conv_1[0][0]                     \n",
      "__________________________________________________________________________________________________\n",
      "out_relu (ReLU)                 (None, 7, 7, 1280)   0           Conv_1_bn[0][0]                  \n",
      "__________________________________________________________________________________________________\n",
      "global_average_pooling2d (Globa (None, 1280)         0           out_relu[0][0]                   \n",
      "==================================================================================================\n",
      "Total params: 2,257,984\n",
      "Trainable params: 2,223,872\n",
      "Non-trainable params: 34,112\n",
      "__________________________________________________________________________________________________"
     ]
    }
   ],
   "source": [
    "new_model.summary()"
   ]
  },
  {
   "cell_type": "code",
   "execution_count": 12,
   "id": "be8fe2b9",
   "metadata": {},
   "outputs": [
    {
     "data": {
      "application/vnd.jupyter.widget-view+json": {
       "model_id": "",
       "version_major": 2,
       "version_minor": 0
      },
      "text/plain": [
       "FloatProgress(value=0.0, bar_style='info', description='Progress:', layout=Layout(height='25px', width='50%'),…"
      ]
     },
     "metadata": {},
     "output_type": "display_data"
    }
   ],
   "source": [
    "def model_fn():\n",
    "    \"\"\"\n",
    "    Returns a MobileNetV2 model with top layer removed \n",
    "    and broadcasted pretrained weights.\n",
    "    \"\"\"\n",
    "    model = MobileNetV2(weights='imagenet',\n",
    "                        include_top=True,\n",
    "                        input_shape=(224, 224, 3))\n",
    "    for layer in model.layers:\n",
    "        layer.trainable = False\n",
    "    new_model = Model(inputs=model.input,\n",
    "                  outputs=model.layers[-2].output)\n",
    "    new_model.set_weights(brodcast_weights.value)\n",
    "    return new_model"
   ]
  },
  {
   "cell_type": "markdown",
   "id": "c032f135",
   "metadata": {},
   "source": [
    "#### 4.10.5.3 Définition du processus de chargement des images <br/> et application de leur featurisation à travers l'utilisation de pandas UDF"
   ]
  },
  {
   "cell_type": "code",
   "execution_count": 13,
   "id": "933100cf",
   "metadata": {
    "scrolled": true
   },
   "outputs": [
    {
     "data": {
      "application/vnd.jupyter.widget-view+json": {
       "model_id": "",
       "version_major": 2,
       "version_minor": 0
      },
      "text/plain": [
       "FloatProgress(value=0.0, bar_style='info', description='Progress:', layout=Layout(height='25px', width='50%'),…"
      ]
     },
     "metadata": {},
     "output_type": "display_data"
    },
    {
     "name": "stdout",
     "output_type": "stream",
     "text": [
      "/usr/lib/spark/python/lib/pyspark.zip/pyspark/sql/pandas/functions.py:392: UserWarning: In Python 3.6+ and Spark 3.0+, it is preferred to specify type hints for pandas UDF instead of specifying pandas UDF type which will be deprecated in the future releases. See SPARK-28264 for more details."
     ]
    }
   ],
   "source": [
    "def preprocess(content):\n",
    "    \"\"\"\n",
    "    Preprocesses raw image bytes for prediction.\n",
    "    \"\"\"\n",
    "    img = Image.open(io.BytesIO(content)).resize([224, 224])\n",
    "    arr = img_to_array(img)\n",
    "    return preprocess_input(arr)\n",
    "\n",
    "def featurize_series(model, content_series):\n",
    "    \"\"\"\n",
    "    Featurize a pd.Series of raw images using the input model.\n",
    "    :return: a pd.Series of image features\n",
    "    \"\"\"\n",
    "    input = np.stack(content_series.map(preprocess))\n",
    "    preds = model.predict(input)\n",
    "    # For some layers, output features will be multi-dimensional tensors.\n",
    "    # We flatten the feature tensors to vectors for easier storage in Spark DataFrames.\n",
    "    output = [p.flatten() for p in preds]\n",
    "    return pd.Series(output)\n",
    "\n",
    "@pandas_udf('array<float>', PandasUDFType.SCALAR_ITER)\n",
    "def featurize_udf(content_series_iter):\n",
    "    '''\n",
    "    This method is a Scalar Iterator pandas UDF wrapping our featurization function.\n",
    "    The decorator specifies that this returns a Spark DataFrame column of type ArrayType(FloatType).\n",
    "\n",
    "    :param content_series_iter: This argument is an iterator over batches of data, where each batch\n",
    "                              is a pandas Series of image data.\n",
    "    '''\n",
    "    # With Scalar Iterator pandas UDFs, we can load the model once and then re-use it\n",
    "    # for multiple data batches.  This amortizes the overhead of loading big models.\n",
    "    model = model_fn()\n",
    "    for content_series in content_series_iter:\n",
    "        yield featurize_series(model, content_series)"
   ]
  },
  {
   "cell_type": "markdown",
   "id": "f23206e8",
   "metadata": {},
   "source": [
    "#### 4.10.5.4 Exécutions des actions d'extractions de features"
   ]
  },
  {
   "cell_type": "code",
   "execution_count": 14,
   "id": "22d760c2",
   "metadata": {},
   "outputs": [
    {
     "data": {
      "application/vnd.jupyter.widget-view+json": {
       "model_id": "",
       "version_major": 2,
       "version_minor": 0
      },
      "text/plain": [
       "FloatProgress(value=0.0, bar_style='info', description='Progress:', layout=Layout(height='25px', width='50%'),…"
      ]
     },
     "metadata": {},
     "output_type": "display_data"
    }
   ],
   "source": [
    "# spark.conf.set(\"spark.sql.execution.arrow.maxRecordsPerBatch\", \"1024\")"
   ]
  },
  {
   "cell_type": "code",
   "execution_count": 15,
   "id": "5e07fd68",
   "metadata": {},
   "outputs": [
    {
     "data": {
      "application/vnd.jupyter.widget-view+json": {
       "model_id": "",
       "version_major": 2,
       "version_minor": 0
      },
      "text/plain": [
       "FloatProgress(value=0.0, bar_style='info', description='Progress:', layout=Layout(height='25px', width='50%'),…"
      ]
     },
     "metadata": {},
     "output_type": "display_data"
    }
   ],
   "source": [
    "features_df = images.repartition(24).select(col(\"path\"),\n",
    "                                            col(\"label\"),\n",
    "                                            featurize_udf(\"content\").alias(\"features\")\n",
    "                                           )"
   ]
  },
  {
   "cell_type": "code",
   "execution_count": 16,
   "id": "06a930b3",
   "metadata": {},
   "outputs": [
    {
     "data": {
      "application/vnd.jupyter.widget-view+json": {
       "model_id": "",
       "version_major": 2,
       "version_minor": 0
      },
      "text/plain": [
       "FloatProgress(value=0.0, bar_style='info', description='Progress:', layout=Layout(height='25px', width='50%'),…"
      ]
     },
     "metadata": {},
     "output_type": "display_data"
    },
    {
     "name": "stdout",
     "output_type": "stream",
     "text": [
      "s3://sbt-calculsdistribues/Results-all-2"
     ]
    }
   ],
   "source": [
    "print(PATH_Result)"
   ]
  },
  {
   "cell_type": "code",
   "execution_count": 17,
   "id": "7c53ddd5",
   "metadata": {},
   "outputs": [
    {
     "data": {
      "application/vnd.jupyter.widget-view+json": {
       "model_id": "",
       "version_major": 2,
       "version_minor": 0
      },
      "text/plain": [
       "FloatProgress(value=0.0, bar_style='info', description='Progress:', layout=Layout(height='25px', width='50%'),…"
      ]
     },
     "metadata": {},
     "output_type": "display_data"
    }
   ],
   "source": [
    "features_df.write.mode(\"overwrite\").parquet(PATH_Result)"
   ]
  },
  {
   "cell_type": "markdown",
   "id": "1fe01b72",
   "metadata": {},
   "source": [
    "### 4.10.6 Chargement des données enregistrées et validation du résultat"
   ]
  },
  {
   "cell_type": "code",
   "execution_count": 19,
   "id": "c3607d5e",
   "metadata": {},
   "outputs": [
    {
     "data": {
      "application/vnd.jupyter.widget-view+json": {
       "model_id": "",
       "version_major": 2,
       "version_minor": 0
      },
      "text/plain": [
       "FloatProgress(value=0.0, bar_style='info', description='Progress:', layout=Layout(height='25px', width='50%'),…"
      ]
     },
     "metadata": {},
     "output_type": "display_data"
    }
   ],
   "source": [
    "df_spark = spark.read.parquet(PATH_Result)"
   ]
  },
  {
   "cell_type": "code",
   "execution_count": 5,
   "id": "a8a4d1f9",
   "metadata": {},
   "outputs": [
    {
     "data": {
      "application/vnd.jupyter.widget-view+json": {
       "model_id": "",
       "version_major": 2,
       "version_minor": 0
      },
      "text/plain": [
       "FloatProgress(value=0.0, bar_style='info', description='Progress:', layout=Layout(height='25px', width='50%'),…"
      ]
     },
     "metadata": {},
     "output_type": "display_data"
    },
    {
     "name": "stdout",
     "output_type": "stream",
     "text": [
      "Column<'features'>"
     ]
    }
   ],
   "source": [
    "df_spark.features"
   ]
  },
  {
   "cell_type": "code",
   "execution_count": 20,
   "id": "8202c676",
   "metadata": {},
   "outputs": [
    {
     "data": {
      "application/vnd.jupyter.widget-view+json": {
       "model_id": "",
       "version_major": 2,
       "version_minor": 0
      },
      "text/plain": [
       "FloatProgress(value=0.0, bar_style='info', description='Progress:', layout=Layout(height='25px', width='50%'),…"
      ]
     },
     "metadata": {},
     "output_type": "display_data"
    }
   ],
   "source": [
    "df = df_spark.toPandas()"
   ]
  },
  {
   "cell_type": "code",
   "execution_count": 19,
   "id": "d069712a",
   "metadata": {},
   "outputs": [
    {
     "data": {
      "application/vnd.jupyter.widget-view+json": {
       "model_id": "",
       "version_major": 2,
       "version_minor": 0
      },
      "text/plain": [
       "FloatProgress(value=0.0, bar_style='info', description='Progress:', layout=Layout(height='25px', width='50%'),…"
      ]
     },
     "metadata": {},
     "output_type": "display_data"
    },
    {
     "name": "stdout",
     "output_type": "stream",
     "text": [
      "                                                path  ...                                           features\n",
      "0  s3://sbt-calculsdistribues/Test/Watermelon/r_1...  ...  [0.0, 0.9346336722373962, 0.14799268543720245,...\n",
      "1  s3://sbt-calculsdistribues/Test/Watermelon/r_6...  ...  [1.3194596767425537, 0.2760419249534607, 0.0, ...\n",
      "2  s3://sbt-calculsdistribues/Test/Watermelon/r_8...  ...  [0.5296130180358887, 0.09730405360460281, 0.0,...\n",
      "3  s3://sbt-calculsdistribues/Test/Pineapple Mini...  ...  [0.0, 4.512625694274902, 0.0, 0.0, 0.0, 0.0, 0...\n",
      "4  s3://sbt-calculsdistribues/Test/Pineapple Mini...  ...  [0.007994337007403374, 4.551527500152588, 0.0,...\n",
      "\n",
      "[5 rows x 3 columns]"
     ]
    }
   ],
   "source": [
    "df.head()"
   ]
  },
  {
   "cell_type": "code",
   "execution_count": 21,
   "id": "0e99e6c6",
   "metadata": {},
   "outputs": [
    {
     "data": {
      "application/vnd.jupyter.widget-view+json": {
       "model_id": "",
       "version_major": 2,
       "version_minor": 0
      },
      "text/plain": [
       "FloatProgress(value=0.0, bar_style='info', description='Progress:', layout=Layout(height='25px', width='50%'),…"
      ]
     },
     "metadata": {},
     "output_type": "display_data"
    }
   ],
   "source": [
    "from pyspark.ml.linalg import Vectors"
   ]
  },
  {
   "cell_type": "markdown",
   "id": "4970886f",
   "metadata": {},
   "source": [
    "# Conversion au bon format pour transmettre un dataframe spark , à la fonction PCA de pyspark"
   ]
  },
  {
   "cell_type": "code",
   "execution_count": 22,
   "id": "526a6ff4",
   "metadata": {},
   "outputs": [
    {
     "data": {
      "application/vnd.jupyter.widget-view+json": {
       "model_id": "",
       "version_major": 2,
       "version_minor": 0
      },
      "text/plain": [
       "FloatProgress(value=0.0, bar_style='info', description='Progress:', layout=Layout(height='25px', width='50%'),…"
      ]
     },
     "metadata": {},
     "output_type": "display_data"
    }
   ],
   "source": [
    "array_list = df.features.to_list()"
   ]
  },
  {
   "cell_type": "code",
   "execution_count": 23,
   "id": "97c988dd",
   "metadata": {},
   "outputs": [
    {
     "data": {
      "application/vnd.jupyter.widget-view+json": {
       "model_id": "",
       "version_major": 2,
       "version_minor": 0
      },
      "text/plain": [
       "FloatProgress(value=0.0, bar_style='info', description='Progress:', layout=Layout(height='25px', width='50%'),…"
      ]
     },
     "metadata": {},
     "output_type": "display_data"
    }
   ],
   "source": [
    "vectors_list = [ Vectors.dense(array) for array in array_list]"
   ]
  },
  {
   "cell_type": "code",
   "execution_count": 24,
   "id": "154a77df",
   "metadata": {},
   "outputs": [
    {
     "data": {
      "application/vnd.jupyter.widget-view+json": {
       "model_id": "",
       "version_major": 2,
       "version_minor": 0
      },
      "text/plain": [
       "FloatProgress(value=0.0, bar_style='info', description='Progress:', layout=Layout(height='25px', width='50%'),…"
      ]
     },
     "metadata": {},
     "output_type": "display_data"
    }
   ],
   "source": [
    "df2 = spark.createDataFrame([(vector,) for vector in vectors_list],[\"features\"])"
   ]
  },
  {
   "cell_type": "code",
   "execution_count": 15,
   "id": "2c782011",
   "metadata": {},
   "outputs": [
    {
     "data": {
      "application/vnd.jupyter.widget-view+json": {
       "model_id": "",
       "version_major": 2,
       "version_minor": 0
      },
      "text/plain": [
       "FloatProgress(value=0.0, bar_style='info', description='Progress:', layout=Layout(height='25px', width='50%'),…"
      ]
     },
     "metadata": {},
     "output_type": "display_data"
    }
   ],
   "source": [
    "df_s = df2.sample(fraction=0.05)"
   ]
  },
  {
   "cell_type": "code",
   "execution_count": 29,
   "id": "03202297",
   "metadata": {},
   "outputs": [
    {
     "data": {
      "application/vnd.jupyter.widget-view+json": {
       "model_id": "",
       "version_major": 2,
       "version_minor": 0
      },
      "text/plain": [
       "FloatProgress(value=0.0, bar_style='info', description='Progress:', layout=Layout(height='25px', width='50%'),…"
      ]
     },
     "metadata": {},
     "output_type": "display_data"
    },
    {
     "name": "stdout",
     "output_type": "stream",
     "text": [
      "Row(path='s3://sbt-calculsdistribues/Test/Watermelon/r_110_100.jpg', label='Watermelon', features=[0.0, 0.9346336722373962, 0.14799268543720245, 0.0, 1.2669360637664795, 0.0, 0.378207266330719, 0.33445054292678833, 0.0, 0.0, 1.2442141771316528, 0.30819788575172424, 0.05890428274869919, 0.020689580589532852, 0.16925126314163208, 0.56295245885849, 0.0, 0.0, 0.07362665235996246, 0.22331689298152924, 0.0, 0.0, 0.0, 0.057339806109666824, 0.007363423239439726, 0.9852887988090515, 1.3186299800872803, 0.0, 0.0, 2.206303596496582, 0.0, 0.0, 0.3238607347011566, 0.23553502559661865, 0.0, 0.36168450117111206, 0.100311279296875, 1.3656412363052368, 0.06170520931482315, 0.0, 0.006947480142116547, 0.0, 1.1449416875839233, 0.049447644501924515, 0.3294565975666046, 0.0, 0.187885582447052, 0.1520332545042038, 1.7633845806121826, 0.09460563212633133, 0.0, 0.013475589454174042, 0.31552180647850037, 0.0, 0.4473423361778259, 1.9310648441314697, 0.0, 1.5819429159164429, 0.0, 0.12968990206718445, 0.26107335090637207, 0.2153739184141159, 0.0, 0.0, 1.2452263832092285, 2.2908875942230225, 1.6862248182296753, 0.05255676805973053, 0.058484241366386414, 0.0, 0.0, 0.4290096163749695, 0.01384122483432293, 0.56807541847229, 0.7725850343704224, 2.016939640045166, 0.0, 0.3466194272041321, 0.0, 0.0, 0.04939652979373932, 0.922998309135437, 0.028820358216762543, 0.11686401814222336, 0.0007939289789646864, 0.0, 0.0557883158326149, 0.9732628464698792, 1.8016645908355713, 3.3718209266662598, 0.8932669758796692, 0.006345108617097139, 0.0, 0.004564470611512661, 1.0446892976760864, 0.8255202770233154, 0.2872013449668884, 0.0, 1.5770559310913086, 0.005716665647923946, 0.20673160254955292, 0.44227316975593567, 0.0, 0.0, 0.2198556363582611, 0.7349395155906677, 0.0, 0.37526631355285645, 0.09989073127508163, 0.18600794672966003, 0.0, 0.0, 0.0, 1.0232892036437988, 0.026925167068839073, 1.3213669061660767, 1.3494354486465454, 0.025737246498465538, 0.0, 0.010385318659245968, 0.6275434494018555, 0.1202159970998764, 0.05866970866918564, 0.8766363263130188, 0.010188288055360317, 1.244777798652649, 1.2775429487228394, 1.8429001569747925, 2.629554271697998, 0.10970287770032883, 0.0, 2.578739643096924, 0.2728256583213806, 0.2994704246520996, 1.0790150165557861, 0.0, 0.5662063360214233, 0.10453668236732483, 2.0512282848358154, 1.5588313341140747, 0.874092698097229, 0.06245143711566925, 0.45933473110198975, 0.29700371623039246, 0.0, 0.06594909727573395, 0.040032655000686646, 0.8100557923316956, 0.02605985663831234, 0.28564614057540894, 0.25288888812065125, 0.0, 0.4875962734222412, 0.0, 0.821440577507019, 1.223007082939148, 0.015399391762912273, 0.0, 0.39886730909347534, 0.8620679974555969, 0.0, 0.0, 0.0, 0.1614072620868683, 1.186078429222107, 1.7261539697647095, 1.1592463254928589, 1.482896089553833, 1.1178315877914429, 0.3854275047779083, 0.36287739872932434, 0.0, 0.014516242779791355, 0.0, 0.0, 1.1345818042755127, 0.9223825335502625, 0.5550290942192078, 0.015725305303931236, 0.5546402335166931, 2.6615512371063232, 0.27482885122299194, 0.05780353024601936, 0.20367632806301117, 0.7810348868370056, 1.139339566230774, 0.9329854249954224, 0.09458082914352417, 0.0, 0.24399062991142273, 0.0, 0.9811198115348816, 0.30286505818367004, 1.7561850547790527, 0.012703366577625275, 0.0, 0.0, 0.0, 0.05029049143195152, 0.27234119176864624, 0.9849880933761597, 0.0790463238954544, 0.0808989629149437, 0.4331292510032654, 0.9039459824562073, 0.0, 0.0, 0.0, 0.0454452782869339, 0.9571911692619324, 0.0, 0.0, 0.0, 0.283507376909256, 0.04533417895436287, 1.084540605545044, 0.0, 0.0, 0.8717613220214844, 0.0, 0.7495056390762329, 0.09651200473308563, 0.0, 0.05651678517460823, 0.06186594441533089, 0.0, 0.0, 0.0, 2.0477373600006104, 0.2632170021533966, 0.4371928870677948, 0.4064522981643677, 0.8196926712989807, 0.26845964789390564, 0.013327118940651417, 0.21847358345985413, 0.0004610010946635157, 0.010461239144206047, 0.15558326244354248, 0.8434438109397888, 1.6614059209823608, 0.6221937537193298, 0.0, 0.0, 1.3899106979370117, 0.6579501628875732, 2.2630774974823, 0.05037809908390045, 1.062406063079834, 0.2779078483581543, 1.480812430381775, 0.0, 0.41369158029556274, 0.0, 0.8950924873352051, 1.9886384010314941, 3.0230588912963867, 0.2576630115509033, 0.453316330909729, 1.5955774784088135, 0.0, 0.6294590830802917, 0.025272982195019722, 1.3165037631988525, 0.0, 0.0, 0.0, 0.0, 0.0, 0.15702058374881744, 0.09761416912078857, 0.0, 1.0714092254638672, 0.5496246218681335, 0.5416158437728882, 0.7191240191459656, 0.23636984825134277, 0.0, 0.09463584423065186, 0.0, 0.4549977779388428, 0.0, 0.0659419372677803, 0.5527805685997009, 1.288954496383667, 0.8678018450737, 0.02475086599588394, 0.22146563231945038, 0.5349225401878357, 0.0, 0.6579078435897827, 0.444723516702652, 0.0, 0.02299777790904045, 0.0, 0.5905726552009583, 0.0, 0.005606604274362326, 0.12748762965202332, 0.0858735740184784, 0.14640161395072937, 0.021318353712558746, 0.2932724058628082, 0.042081814259290695, 0.09832482784986496, 0.08500530570745468, 0.0, 0.0, 0.0, 0.08244094252586365, 0.627008855342865, 0.875267505645752, 0.0, 0.06633532047271729, 1.3832236528396606, 0.9075872302055359, 0.012050450779497623, 0.0, 0.0, 0.18923567235469818, 0.3488975763320923, 1.576149344444275, 0.48567697405815125, 0.1408010721206665, 0.0, 0.0, 0.03180516138672829, 0.026121439412236214, 0.0, 0.017107043415308, 0.2092428356409073, 0.0, 0.3217213749885559, 1.6630001068115234, 0.0, 0.7182617783546448, 0.030891520902514458, 0.12229890376329422, 0.39957642555236816, 1.313944935798645, 0.0, 0.0, 0.269106924533844, 0.08200734108686447, 0.0, 0.9818952083587646, 0.0, 0.0, 1.1233752965927124, 0.6028953790664673, 0.17410239577293396, 0.14002425968647003, 0.0, 1.5944243669509888, 0.003467705100774765, 0.013262243941426277, 0.020633403211832047, 0.0, 1.3199641704559326, 0.03193774074316025, 0.11550125479698181, 1.421527624130249, 0.30234193801879883, 1.9980108737945557, 0.3084205090999603, 0.023283790796995163, 1.2966086864471436, 0.0799139067530632, 0.0, 0.0, 0.4057861566543579, 0.04764081910252571, 0.0, 0.04944748431444168, 2.8720157146453857, 0.0, 0.0, 1.0107842683792114, 0.2162359058856964, 0.0, 0.0, 0.3101745843887329, 0.14727585017681122, 0.0, 0.0, 0.0, 0.48559680581092834, 0.0, 0.0, 0.9886173605918884, 1.7889448404312134, 0.04271645471453667, 0.0, 0.0, 0.019650183618068695, 0.21620287001132965, 0.606057345867157, 0.0, 0.21726277470588684, 0.0468062125146389, 0.05971503630280495, 1.1524955034255981, 0.0, 0.02266938053071499, 0.0, 0.8720669746398926, 0.22233499586582184, 0.8046278953552246, 1.4633846282958984, 0.0, 2.723417043685913, 2.5098586082458496, 0.0, 0.08981449902057648, 0.1866963803768158, 0.4254223704338074, 0.016676589846611023, 1.8248299360275269, 0.5278492569923401, 1.9787592887878418, 0.38212689757347107, 2.3074018955230713, 0.25888359546661377, 0.0, 0.11455103009939194, 0.5568361878395081, 0.20064835250377655, 0.0, 0.003826524131000042, 0.0, 0.8096579909324646, 0.08118245005607605, 0.0, 0.0, 0.024227971211075783, 0.08443320542573929, 0.11700591444969177, 0.12738826870918274, 0.01743939518928528, 0.008408458903431892, 0.0, 0.0, 2.0563347339630127, 1.4369782209396362, 1.9718283414840698, 1.9254608154296875, 0.5528544783592224, 0.13502448797225952, 0.012009985744953156, 0.0, 0.24504591524600983, 0.10299927741289139, 0.40199944376945496, 0.26728740334510803, 1.4638574123382568, 0.5394537448883057, 0.0, 0.02086850069463253, 0.4036117494106293, 0.0, 2.0885932445526123, 0.0, 0.0, 0.00435258075594902, 1.7325806617736816, 0.0, 2.069453239440918, 0.0, 2.1946723461151123, 0.838301420211792, 0.09583169221878052, 0.0, 0.0, 1.0569857358932495, 0.2797222435474396, 0.23359878361225128, 0.10000067204236984, 0.0, 0.0, 2.3962655067443848, 0.0, 0.3569401800632477, 0.13741372525691986, 0.43217697739601135, 0.6391021013259888, 0.47690683603286743, 0.40386611223220825, 0.7664662599563599, 0.0, 0.8232178092002869, 0.24855943024158478, 0.011399808339774609, 0.0, 2.2508881092071533, 1.3167418241500854, 0.0, 0.9961596131324768, 0.6673952341079712, 0.10786323994398117, 1.3995070457458496, 0.00931305717676878, 0.2534470558166504, 0.03375425562262535, 0.0, 0.18984787166118622, 0.0, 0.0, 0.0, 0.013953573070466518, 0.03241708129644394, 1.2021523714065552, 1.3744299411773682, 0.030584078282117844, 0.9178626537322998, 0.2408805787563324, 1.3035869598388672, 0.0, 0.5328265428543091, 1.02781081199646, 0.035619527101516724, 0.0, 1.8138879537582397, 0.0, 1.114736795425415, 0.06739642471075058, 0.0, 0.21468563377857208, 0.2577745020389557, 2.0202198028564453, 0.4131767153739929, 0.0, 1.555801510810852, 0.0, 0.21555644273757935, 0.7199814319610596, 0.20247669517993927, 0.6069209575653076, 0.0, 0.0, 0.07955573499202728, 0.03511019051074982, 0.0, 1.3296005725860596, 0.0, 0.5871410369873047, 0.0, 0.0012312798062339425, 0.0, 0.0, 1.2398252487182617, 1.5027179718017578, 0.0, 0.0, 0.012400110252201557, 0.16001170873641968, 0.0, 0.25236591696739197, 1.920689344406128, 2.302772045135498, 2.414386510848999, 0.09203720837831497, 0.0, 1.7664086818695068, 0.0, 0.11393285542726517, 0.24593988060951233, 0.8992434144020081, 0.08512251824140549, 0.06930392980575562, 0.0, 0.1314496099948883, 0.6709238886833191, 0.017912838608026505, 0.0015031850198283792, 1.4093059301376343, 1.2630550861358643, 0.0, 0.012946871109306812, 0.05850479006767273, 0.6430156230926514, 0.02750210650265217, 0.030035139992833138, 0.0, 0.001544526661746204, 0.0, 0.0, 1.0504618883132935, 0.0, 0.12390892952680588, 0.01587318815290928, 0.659935474395752, 1.2735904455184937, 0.27379778027534485, 3.0143513679504395, 0.05098656564950943, 0.021741686388850212, 0.0, 1.4149489402770996, 0.05647255480289459, 0.018365085124969482, 0.2326078563928604, 0.06720127165317535, 0.8038703203201294, 0.07566015422344208, 0.0, 0.0, 0.6709254384040833, 0.042136888951063156, 0.794414222240448, 0.321512371301651, 2.3404605388641357, 0.7120564579963684, 0.09388383477926254, 0.0, 3.0752360820770264, 1.4272794723510742, 1.4676554203033447, 0.6581352353096008, 0.06392654776573181, 0.0, 0.0006703666877001524, 2.141801595687866, 0.8645132184028625, 1.0584746599197388, 0.24379734694957733, 0.010002169758081436, 0.5509259104728699, 0.0, 0.0, 0.0, 0.32145678997039795, 0.08676408976316452, 0.2762480676174164, 0.029936322942376137, 0.0, 1.1372756958007812, 1.5718786716461182, 1.4118505716323853, 0.3670240640640259, 1.6388468742370605, 0.0, 0.1602994054555893, 2.155717134475708, 0.6945345401763916, 0.0, 1.5723415613174438, 0.06381101161241531, 0.0, 1.0924630165100098, 0.0649852380156517, 0.545930027961731, 0.03885821998119354, 0.0, 0.003268009517341852, 1.497663974761963, 0.18794670701026917, 0.2512795925140381, 0.0, 0.0, 0.0, 0.8770861029624939, 1.1911137104034424, 0.042448632419109344, 0.005652350373566151, 0.11081361025571823, 0.6086585521697998, 0.0, 0.0, 0.0, 0.7472904920578003, 1.9731608629226685, 0.5683644413948059, 3.088900566101074, 2.140185832977295, 0.3050006926059723, 0.2967416048049927, 0.33727505803108215, 1.4513810873031616, 0.034421972930431366, 0.29013901948928833, 0.1226239874958992, 0.5241479277610779, 0.05568177253007889, 0.9798411726951599, 0.0, 0.47007355093955994, 0.15005819499492645, 0.02112940326333046, 0.8333203792572021, 2.099600076675415, 0.001353784347884357, 0.0045440043322741985, 0.05729581415653229, 0.0, 0.2844698429107666, 0.0, 0.0226760171353817, 0.811113178730011, 0.06474640220403671, 0.1807062178850174, 0.0, 0.9255090951919556, 0.3067876398563385, 0.06700746715068817, 1.3124991655349731, 0.0, 1.3447474241256714, 0.08581513911485672, 0.0, 0.04254467785358429, 0.00481340242549777, 1.4624149799346924, 1.51899254322052, 0.0, 0.7128489017486572, 0.4096958339214325, 0.6011384725570679, 0.4722185730934143, 0.3905457556247711, 1.5065302848815918, 0.9647080302238464, 0.5501958727836609, 0.952917218208313, 0.0, 0.9107378125190735, 0.44631215929985046, 1.7898437976837158, 0.018311256542801857, 0.9657188653945923, 0.4529935419559479, 0.0, 2.285391092300415, 0.7103408575057983, 0.010994450189173222, 0.20338724553585052, 0.08959265798330307, 1.709273338317871, 0.0, 0.2105030119419098, 0.0, 1.2899229526519775, 0.8041755557060242, 0.43010905385017395, 0.3101840913295746, 0.0, 0.014354799874126911, 0.277086466550827, 1.5479587316513062, 0.014100219123065472, 0.0, 0.0, 0.0, 0.020178940147161484, 1.876688003540039, 0.7629208564758301, 0.0, 0.7198829650878906, 0.04051108658313751, 1.3444089889526367, 0.0, 0.17492149770259857, 0.20368678867816925, 1.3724685907363892, 0.12889517843723297, 0.005588195752352476, 1.1314589977264404, 1.0725311040878296, 0.09455452114343643, 0.938103973865509, 0.005247270688414574, 0.021697774529457092, 0.0, 0.18395252525806427, 1.2160816192626953, 0.0, 2.3108365535736084, 0.9902196526527405, 0.0, 0.009087595157325268, 1.7371705770492554, 0.03179334104061127, 3.266438579885289e-05, 0.009614957496523857, 0.027319589629769325, 0.7072042226791382, 0.00681060878559947, 0.08424287289381027, 0.3756740391254425, 0.0, 0.0, 0.16273947060108185, 1.406991720199585, 1.1680026054382324, 0.11222314089536667, 0.7805624008178711, 0.8888578414916992, 0.08011047542095184, 0.0, 0.0, 0.0, 0.6308134198188782, 0.0, 0.09428313374519348, 0.024372631683945656, 0.03478972241282463, 0.0240363497287035, 0.14912642538547516, 0.013437828049063683, 0.06934815645217896, 0.21571999788284302, 0.893793523311615, 0.33547475934028625, 0.08298374712467194, 0.43121016025543213, 0.25285401940345764, 0.6094768047332764, 0.0, 0.0, 0.5614340901374817, 1.0425606966018677, 0.2969503700733185, 0.0, 0.0, 0.28744611144065857, 1.224076509475708, 2.2669320106506348, 0.0, 3.313455581665039, 0.1162613034248352, 0.24128831923007965, 0.9377176761627197, 0.19148892164230347, 0.0, 0.0, 0.030149878934025764, 0.20988622307777405, 1.3313170671463013, 0.014824473299086094, 0.5259705185890198, 0.1028226763010025, 0.0, 0.06266669183969498, 0.1929629147052765, 2.310000419616699, 0.2042979598045349, 0.0, 0.008764548227190971, 0.809995174407959, 0.10875445604324341, 0.0, 0.4150344729423523, 2.7625041007995605, 0.07934227585792542, 0.10828211903572083, 0.024710755795240402, 0.028068644925951958, 0.9318851828575134, 0.0, 0.002876939717680216, 0.0, 0.8683639764785767, 0.07464486360549927, 0.0, 0.5015881657600403, 0.10660607367753983, 0.0, 0.2101188451051712, 0.2530275583267212, 0.32400405406951904, 0.8282600045204163, 0.05363406613469124, 0.039950791746377945, 0.23182380199432373, 0.0, 0.0, 0.0, 0.0, 0.8994498252868652, 0.028280457481741905, 2.237459182739258, 0.0, 0.15080522000789642, 1.392441749572754, 1.1793009042739868, 0.37083739042282104, 0.11379063129425049, 1.8392053842544556, 0.0, 0.14549683034420013, 0.0, 0.0, 0.0, 0.08874812722206116, 0.1244359090924263, 0.0, 0.0, 0.24406853318214417, 0.19616824388504028, 0.0, 0.0, 0.16433505713939667, 1.4436696767807007, 0.5321736335754395, 0.0, 0.3964115083217621, 1.0907777547836304, 0.0, 0.0, 0.0, 0.011445924639701843, 0.0, 0.0, 0.0, 0.0, 0.0, 0.0, 0.12307997792959213, 0.13656097650527954, 0.0, 0.0, 0.08913638442754745, 0.0, 0.8645108342170715, 0.0, 0.0, 0.49567273259162903, 0.2649973928928375, 0.0, 0.0, 0.0, 0.0, 0.0035161853302270174, 0.13611221313476562, 0.5325822234153748, 0.0, 0.203670933842659, 0.5627101063728333, 0.476734459400177, 0.008772465400397778, 1.1292484998703003, 0.0074655539356172085, 0.08140656352043152, 0.0, 0.35403504967689514, 1.5164897441864014, 0.7066091299057007, 3.464672565460205, 0.28153905272483826, 0.40868502855300903, 0.0011159215355291963, 0.13900324702262878, 0.42598867416381836, 0.24288754165172577, 0.0, 0.0, 0.0289129801094532, 1.009395718574524, 0.0, 0.2745307683944702, 0.47687655687332153, 0.17378480732440948, 0.0, 0.0, 0.04969843104481697, 0.7742148637771606, 0.0053499420173466206, 0.0, 0.479559063911438, 0.0, 1.8600996732711792, 0.026355808600783348, 2.403306007385254, 1.9626744985580444, 2.730637788772583, 0.05366326496005058, 0.5876951217651367, 2.064544677734375, 0.8222197890281677, 0.016049137338995934, 1.6111547946929932, 0.05917402356863022, 0.7544447183609009, 1.221938967704773, 0.0, 0.710143506526947, 0.0, 0.004698839504271746, 0.0, 0.0, 0.03350931406021118, 0.01067312154918909, 0.40728795528411865, 0.0, 0.5435126423835754, 0.36078202724456787, 0.0, 1.3796616792678833, 0.29624128341674805, 0.027118152007460594, 0.35133060812950134, 0.0, 0.19403566420078278, 0.0, 0.14985699951648712, 0.12904877960681915, 1.9332648515701294, 0.10183560103178024, 0.0, 0.0, 0.6801656484603882, 0.14126016199588776, 0.0, 0.0, 2.2800445556640625, 0.21521307528018951, 0.040033698081970215, 1.0545647144317627, 0.8218128681182861, 0.7620096802711487, 0.0, 0.0, 0.48270782828330994, 1.6582977771759033, 0.122242771089077, 0.8067671060562134, 0.0, 0.21389681100845337, 0.09354743361473083, 1.3070120811462402, 1.0056350231170654, 0.09693557024002075, 0.0, 1.622556209564209, 0.6057493090629578, 0.7639061808586121, 0.609096109867096, 0.0, 0.0, 1.0307804346084595, 1.3312827348709106, 0.8296254873275757, 0.13089129328727722, 0.0, 0.27660632133483887, 0.11811387538909912, 0.026623964309692383, 0.0, 2.1490368843078613, 0.0, 0.23019444942474365, 0.0, 0.14509138464927673, 1.1462446451187134, 0.9215764403343201, 0.7830318808555603, 1.2841798067092896, 2.1308975219726562, 2.4666366577148438, 0.17249184846878052, 0.0035208933986723423, 0.4364532232284546, 0.03703178092837334, 1.1309077739715576, 0.5021222829818726, 0.09518259763717651, 0.0, 0.06848151981830597, 0.0, 0.9548693299293518, 0.08220688998699188, 0.9669809341430664, 0.8584984540939331, 0.0, 0.40379267930984497, 0.11562298983335495, 1.288320541381836, 0.0, 1.4719125032424927, 0.2060849368572235, 0.0, 0.4071262776851654, 0.0, 0.16566824913024902, 0.07455150783061981, 1.2253226041793823, 0.0, 0.0, 0.6768911480903625, 0.7661173343658447, 0.049316950142383575, 0.0, 0.29119226336479187, 0.0, 1.7673674821853638, 0.04115864261984825, 0.0, 0.07578493654727936, 1.6998841762542725, 0.0704011395573616, 0.3075416088104248, 0.0, 0.5871056318283081, 1.2620455026626587, 0.02938566356897354, 0.3574660122394562, 0.0, 1.602375864982605, 0.0, 0.0, 0.015788359567523003, 0.07407408952713013, 0.5991407632827759, 0.0355050191283226, 0.6180614829063416, 0.3699391782283783, 0.4556604027748108, 0.07721404731273651, 0.9672746658325195, 0.099367655813694, 0.03236033767461777, 0.139125794172287, 0.0, 0.003414264414459467, 0.0, 0.2825431823730469, 0.014416889287531376, 0.9129570722579956, 0.07120823115110397, 0.27264100313186646, 0.8270235061645508, 1.8987517356872559, 0.0, 0.3935163915157318, 0.18115249276161194, 2.736520767211914, 0.0, 1.901572346687317, 1.2828266620635986, 0.03807484731078148, 0.0, 0.0, 0.036212258040905, 0.3242790997028351, 0.25429150462150574, 0.0, 1.0272040367126465, 0.0, 0.0, 0.0, 0.0, 1.5180402994155884, 0.43308788537979126, 0.8710034489631653, 0.5051832795143127, 1.3814685344696045, 0.0, 1.4587421417236328, 0.0, 1.7087926864624023, 0.03377199545502663, 2.1111643314361572, 0.01871533691883087, 0.5429322719573975, 0.0, 0.04200299084186554, 0.30665746331214905, 0.14652393758296967, 0.13626396656036377, 0.0, 0.0, 0.0, 0.0, 1.9765198230743408, 0.0, 0.0, 0.9752662777900696, 0.22401198744773865, 1.4352962970733643, 1.1105828285217285, 0.0, 0.0, 0.2032623291015625, 1.2779021263122559, 0.04078235849738121, 0.937852144241333, 0.27510568499565125, 0.011181172914803028, 2.0342049598693848, 0.20214399695396423, 1.4775595664978027, 0.6499578952789307, 0.24792100489139557, 0.0006707941647619009, 0.1928899884223938, 0.024366384372115135, 1.4570648670196533, 0.11257390677928925, 0.5058724284172058, 0.3467386066913605, 1.2920784950256348, 0.23902752995491028, 0.7155083417892456, 0.5124840140342712, 0.259109765291214, 1.2180886268615723, 0.0, 0.0, 0.734019935131073, 0.4847385287284851, 0.1171872541308403, 0.27924680709838867, 0.7103803753852844, 0.0, 0.4209345281124115, 0.025271734222769737, 0.0, 0.02032240480184555, 0.04739414528012276, 1.1991626024246216, 0.4539056420326233, 0.010834957472980022, 0.9472184181213379, 0.5490961074829102, 0.01708713173866272, 0.12411320209503174, 1.5686599016189575, 0.9666011333465576, 0.35784903168678284, 2.190356492996216, 0.0, 0.7059848308563232, 0.7634398937225342, 0.022024005651474, 0.0, 2.27082896232605, 0.4006763696670532, 0.17657560110092163, 0.28321996331214905, 0.0, 0.8116927146911621, 0.3999116122722626, 0.10245928168296814, 1.1027194261550903, 0.038521263748407364, 0.0, 0.0, 0.008054309524595737, 0.007068433798849583, 0.6608906984329224, 0.0, 0.0, 0.27768415212631226, 0.0, 0.988935649394989, 0.031374309211969376, 0.13467933237552643, 0.37581726908683777, 0.1263573169708252, 0.6972403526306152, 0.12691491842269897, 0.0, 0.2724364697933197, 0.0, 0.3195987045764923, 0.8529009222984314, 0.1062675416469574, 0.22311006486415863, 0.0, 0.1945681869983673, 0.5321287512779236, 0.24174033105373383, 0.0, 0.4263056218624115, 1.28990638256073, 0.9108390808105469, 0.5136258602142334, 0.0, 0.17463749647140503, 0.847025990486145, 0.0])"
     ]
    }
   ],
   "source": [
    "df_spark.head()"
   ]
  },
  {
   "cell_type": "markdown",
   "id": "a25d4fc2",
   "metadata": {},
   "source": [
    "# La mémoire du driver nécessite d'être redimensionner pour ne pas générer de probleme"
   ]
  },
  {
   "cell_type": "code",
   "execution_count": 11,
   "id": "9dab65b1",
   "metadata": {
    "scrolled": true
   },
   "outputs": [
    {
     "name": "stdout",
     "output_type": "stream",
     "text": [
      "Starting Spark application\n"
     ]
    },
    {
     "data": {
      "text/html": [
       "<table>\n",
       "<tr><th>ID</th><th>YARN Application ID</th><th>Kind</th><th>State</th><th>Spark UI</th><th>Driver log</th><th>Current session?</th></tr><tr><td>2</td><td>application_1685522011997_0004</td><td>pyspark</td><td>idle</td><td><a target=\"_blank\" href=\"http://ip-172-31-16-164.eu-west-3.compute.internal:20888/proxy/application_1685522011997_0004/\">Link</a></td><td><a target=\"_blank\" href=\"http://ip-172-31-29-120.eu-west-3.compute.internal:8042/node/containerlogs/container_1685522011997_0004_01_000001/livy\">Link</a></td><td>✔</td></tr></table>"
      ],
      "text/plain": [
       "<IPython.core.display.HTML object>"
      ]
     },
     "metadata": {},
     "output_type": "display_data"
    },
    {
     "data": {
      "application/vnd.jupyter.widget-view+json": {
       "model_id": "",
       "version_major": 2,
       "version_minor": 0
      },
      "text/plain": [
       "FloatProgress(value=0.0, bar_style='info', description='Progress:', layout=Layout(height='25px', width='50%'),…"
      ]
     },
     "metadata": {},
     "output_type": "display_data"
    },
    {
     "name": "stdout",
     "output_type": "stream",
     "text": [
      "SparkSession available as 'spark'.\n"
     ]
    },
    {
     "data": {
      "text/html": [
       "Current session configs: <tt>{'driverMemory': '6000M', 'proxyUser': 'jovyan', 'kind': 'pyspark'}</tt><br>"
      ],
      "text/plain": [
       "<IPython.core.display.HTML object>"
      ]
     },
     "metadata": {},
     "output_type": "display_data"
    },
    {
     "data": {
      "text/html": [
       "<table>\n",
       "<tr><th>ID</th><th>YARN Application ID</th><th>Kind</th><th>State</th><th>Spark UI</th><th>Driver log</th><th>Current session?</th></tr><tr><td>2</td><td>application_1685522011997_0004</td><td>pyspark</td><td>idle</td><td><a target=\"_blank\" href=\"http://ip-172-31-16-164.eu-west-3.compute.internal:20888/proxy/application_1685522011997_0004/\">Link</a></td><td><a target=\"_blank\" href=\"http://ip-172-31-29-120.eu-west-3.compute.internal:8042/node/containerlogs/container_1685522011997_0004_01_000001/livy\">Link</a></td><td>✔</td></tr></table>"
      ],
      "text/plain": [
       "<IPython.core.display.HTML object>"
      ]
     },
     "metadata": {},
     "output_type": "display_data"
    }
   ],
   "source": [
    "%%configure -f \n",
    "{\"driverMemory\": \"6000M\"}"
   ]
  },
  {
   "cell_type": "markdown",
   "id": "91886849",
   "metadata": {},
   "source": [
    "# Features provenant des images via le réseau MobilNetV2"
   ]
  },
  {
   "cell_type": "code",
   "execution_count": 31,
   "id": "9a8bf4a4",
   "metadata": {
    "scrolled": true
   },
   "outputs": [
    {
     "data": {
      "application/vnd.jupyter.widget-view+json": {
       "model_id": "",
       "version_major": 2,
       "version_minor": 0
      },
      "text/plain": [
       "FloatProgress(value=0.0, bar_style='info', description='Progress:', layout=Layout(height='25px', width='50%'),…"
      ]
     },
     "metadata": {},
     "output_type": "display_data"
    },
    {
     "name": "stdout",
     "output_type": "stream",
     "text": [
      "+--------------------+\n",
      "|            features|\n",
      "+--------------------+\n",
      "|[0.0,0.9346336722...|\n",
      "|[1.31945967674255...|\n",
      "|[0.52961301803588...|\n",
      "|[0.0,4.5126256942...|\n",
      "|[0.00799433700740...|\n",
      "|[0.04449297487735...|\n",
      "|[0.00461275922134...|\n",
      "|[0.0,0.2693336904...|\n",
      "|[0.0,1.0986049175...|\n",
      "|[0.0,0.4306903779...|\n",
      "|[0.01588310301303...|\n",
      "|[0.09707429260015...|\n",
      "|[1.65572965145111...|\n",
      "|[0.02456750161945...|\n",
      "|[0.06463862210512...|\n",
      "|[0.04984579607844...|\n",
      "|[0.0,0.0465781427...|\n",
      "|[0.0,0.0279957950...|\n",
      "|[0.0,0.0059984656...|\n",
      "|[0.0,3.9508583545...|\n",
      "+--------------------+\n",
      "only showing top 20 rows"
     ]
    }
   ],
   "source": [
    "df2.show()"
   ]
  },
  {
   "cell_type": "markdown",
   "id": "bae73111",
   "metadata": {},
   "source": [
    "# Première PCA à 10 composantes pour vérifier le bon fonctionnement"
   ]
  },
  {
   "cell_type": "code",
   "execution_count": 25,
   "id": "e89b9fc5",
   "metadata": {},
   "outputs": [
    {
     "data": {
      "application/vnd.jupyter.widget-view+json": {
       "model_id": "",
       "version_major": 2,
       "version_minor": 0
      },
      "text/plain": [
       "FloatProgress(value=0.0, bar_style='info', description='Progress:', layout=Layout(height='25px', width='50%'),…"
      ]
     },
     "metadata": {},
     "output_type": "display_data"
    }
   ],
   "source": [
    "#start = time.time()\n",
    "n_components = 10\n",
    "pca = PCA(\n",
    "    k = n_components, \n",
    "    inputCol = 'features', \n",
    "    outputCol = 'pcaFeatures'\n",
    ").fit(df2)\n",
    "df3 = pca.transform(df2)\n",
    "\n",
    "#end = time.time()\n",
    "#print(end - start)"
   ]
  },
  {
   "cell_type": "markdown",
   "id": "d53f686f",
   "metadata": {},
   "source": [
    "# Dataframe Sortie de la PCA"
   ]
  },
  {
   "cell_type": "code",
   "execution_count": 30,
   "id": "7525f03d",
   "metadata": {},
   "outputs": [
    {
     "data": {
      "application/vnd.jupyter.widget-view+json": {
       "model_id": "",
       "version_major": 2,
       "version_minor": 0
      },
      "text/plain": [
       "FloatProgress(value=0.0, bar_style='info', description='Progress:', layout=Layout(height='25px', width='50%'),…"
      ]
     },
     "metadata": {},
     "output_type": "display_data"
    },
    {
     "name": "stdout",
     "output_type": "stream",
     "text": [
      "+--------------------+--------------------+\n",
      "|            features|         pcaFeatures|\n",
      "+--------------------+--------------------+\n",
      "|[0.0,0.9346336722...|[-2.7870339018409...|\n",
      "|[1.31945967674255...|[-2.5390918716231...|\n",
      "|[0.52961301803588...|[-4.6429835607350...|\n",
      "|[0.0,4.5126256942...|[-5.8523372512992...|\n",
      "|[0.00799433700740...|[-6.0254677295371...|\n",
      "|[0.04449297487735...|[-3.4015426145020...|\n",
      "|[0.00461275922134...|[-2.2765656132952...|\n",
      "|[0.0,0.2693336904...|[0.73589999249634...|\n",
      "|[0.0,1.0986049175...|[-4.1329483208380...|\n",
      "|[0.0,0.4306903779...|[-4.4896372468841...|\n",
      "|[0.01588310301303...|[-0.4455515374955...|\n",
      "|[0.09707429260015...|[-1.0467383878491...|\n",
      "|[1.65572965145111...|[0.58033100507965...|\n",
      "|[0.02456750161945...|[-4.8309496801690...|\n",
      "|[0.06463862210512...|[-0.1297775569271...|\n",
      "|[0.04984579607844...|[-7.1077086590428...|\n",
      "|[0.0,0.0465781427...|[-2.8010905413473...|\n",
      "|[0.0,0.0279957950...|[-3.1137810070018...|\n",
      "|[0.0,0.0059984656...|[-3.0946362447205...|\n",
      "|[0.0,3.9508583545...|[-3.1267996825899...|\n",
      "+--------------------+--------------------+\n",
      "only showing top 20 rows"
     ]
    }
   ],
   "source": [
    "df3.show()"
   ]
  },
  {
   "cell_type": "code",
   "execution_count": 27,
   "id": "057812f9",
   "metadata": {},
   "outputs": [
    {
     "data": {
      "application/vnd.jupyter.widget-view+json": {
       "model_id": "",
       "version_major": 2,
       "version_minor": 0
      },
      "text/plain": [
       "FloatProgress(value=0.0, bar_style='info', description='Progress:', layout=Layout(height='25px', width='50%'),…"
      ]
     },
     "metadata": {},
     "output_type": "display_data"
    }
   ],
   "source": [
    "df4 = df3.toPandas()"
   ]
  },
  {
   "cell_type": "code",
   "execution_count": 28,
   "id": "bc30f9e6",
   "metadata": {},
   "outputs": [
    {
     "data": {
      "application/vnd.jupyter.widget-view+json": {
       "model_id": "",
       "version_major": 2,
       "version_minor": 0
      },
      "text/plain": [
       "FloatProgress(value=0.0, bar_style='info', description='Progress:', layout=Layout(height='25px', width='50%'),…"
      ]
     },
     "metadata": {},
     "output_type": "display_data"
    },
    {
     "name": "stdout",
     "output_type": "stream",
     "text": [
      "                                            features                                        pcaFeatures\n",
      "0  [0.0, 0.9346336722373962, 0.14799268543720245,...  [-2.787033901840964, 5.261695069807606, -6.107...\n",
      "1  [1.3194596767425537, 0.2760419249534607, 0.0, ...  [-2.5390918716231896, 5.514261954816636, -6.15...\n",
      "2  [0.5296130180358887, 0.09730405360460281, 0.0,...  [-4.642983560735027, 7.486536010933872, -5.899...\n",
      "3  [0.0, 4.512625694274902, 0.0, 0.0, 0.0, 0.0, 0...  [-5.852337251299286, 4.030082367206919, 0.9545...\n",
      "4  [0.007994337007403374, 4.551527500152588, 0.0,...  [-6.025467729537131, 3.681532899600041, 0.6934..."
     ]
    }
   ],
   "source": [
    "df4.head()"
   ]
  },
  {
   "cell_type": "markdown",
   "id": "fb0a86ff",
   "metadata": {},
   "source": [
    "# PCA à 750 Composantes"
   ]
  },
  {
   "cell_type": "code",
   "execution_count": 32,
   "id": "41bf47f8",
   "metadata": {},
   "outputs": [
    {
     "data": {
      "application/vnd.jupyter.widget-view+json": {
       "model_id": "",
       "version_major": 2,
       "version_minor": 0
      },
      "text/plain": [
       "FloatProgress(value=0.0, bar_style='info', description='Progress:', layout=Layout(height='25px', width='50%'),…"
      ]
     },
     "metadata": {},
     "output_type": "display_data"
    }
   ],
   "source": [
    "#start = time.time()\n",
    "n_components = 750\n",
    "pca = PCA(\n",
    "    k = n_components, \n",
    "    inputCol = 'features', \n",
    "    outputCol = 'pcaFeatures'\n",
    ").fit(df2)\n",
    "df750 = pca.transform(df2)\n",
    "\n",
    "#end = time.time()\n",
    "#print(end - start)"
   ]
  },
  {
   "cell_type": "code",
   "execution_count": 34,
   "id": "a924c80a",
   "metadata": {},
   "outputs": [
    {
     "data": {
      "application/vnd.jupyter.widget-view+json": {
       "model_id": "",
       "version_major": 2,
       "version_minor": 0
      },
      "text/plain": [
       "FloatProgress(value=0.0, bar_style='info', description='Progress:', layout=Layout(height='25px', width='50%'),…"
      ]
     },
     "metadata": {},
     "output_type": "display_data"
    },
    {
     "name": "stdout",
     "output_type": "stream",
     "text": [
      "DenseVector([0.1014, 0.0801, 0.0635, 0.0501, 0.0354, 0.0292, 0.0277, 0.0228, 0.0199, 0.0191, 0.0165, 0.0147, 0.014, 0.0137, 0.0133, 0.0125, 0.0116, 0.0107, 0.0098, 0.0097, 0.0092, 0.0083, 0.0079, 0.0075, 0.0071, 0.0071, 0.0068, 0.0062, 0.0061, 0.0059, 0.0057, 0.0056, 0.0053, 0.0051, 0.0048, 0.0047, 0.0046, 0.0043, 0.0042, 0.0041, 0.0039, 0.0039, 0.0038, 0.0037, 0.0036, 0.0034, 0.0034, 0.0033, 0.0033, 0.0032, 0.0032, 0.0031, 0.003, 0.0029, 0.0028, 0.0028, 0.0028, 0.0027, 0.0026, 0.0025, 0.0025, 0.0025, 0.0024, 0.0023, 0.0023, 0.0022, 0.0022, 0.0022, 0.0021, 0.0021, 0.0021, 0.002, 0.0019, 0.0019, 0.0019, 0.0018, 0.0018, 0.0018, 0.0017, 0.0017, 0.0017, 0.0017, 0.0016, 0.0016, 0.0016, 0.0016, 0.0016, 0.0015, 0.0015, 0.0015, 0.0014, 0.0014, 0.0014, 0.0014, 0.0014, 0.0014, 0.0014, 0.0013, 0.0013, 0.0013, 0.0013, 0.0012, 0.0012, 0.0012, 0.0012, 0.0012, 0.0012, 0.0012, 0.0011, 0.0011, 0.0011, 0.0011, 0.0011, 0.0011, 0.0011, 0.001, 0.001, 0.001, 0.001, 0.001, 0.001, 0.001, 0.0009, 0.0009, 0.0009, 0.0009, 0.0009, 0.0009, 0.0009, 0.0009, 0.0009, 0.0009, 0.0009, 0.0008, 0.0008, 0.0008, 0.0008, 0.0008, 0.0008, 0.0008, 0.0008, 0.0008, 0.0008, 0.0008, 0.0008, 0.0007, 0.0007, 0.0007, 0.0007, 0.0007, 0.0007, 0.0007, 0.0007, 0.0007, 0.0007, 0.0007, 0.0007, 0.0007, 0.0007, 0.0007, 0.0006, 0.0006, 0.0006, 0.0006, 0.0006, 0.0006, 0.0006, 0.0006, 0.0006, 0.0006, 0.0006, 0.0006, 0.0006, 0.0006, 0.0006, 0.0006, 0.0006, 0.0006, 0.0006, 0.0005, 0.0005, 0.0005, 0.0005, 0.0005, 0.0005, 0.0005, 0.0005, 0.0005, 0.0005, 0.0005, 0.0005, 0.0005, 0.0005, 0.0005, 0.0005, 0.0005, 0.0005, 0.0005, 0.0005, 0.0005, 0.0005, 0.0005, 0.0004, 0.0004, 0.0004, 0.0004, 0.0004, 0.0004, 0.0004, 0.0004, 0.0004, 0.0004, 0.0004, 0.0004, 0.0004, 0.0004, 0.0004, 0.0004, 0.0004, 0.0004, 0.0004, 0.0004, 0.0004, 0.0004, 0.0004, 0.0004, 0.0004, 0.0004, 0.0004, 0.0004, 0.0004, 0.0004, 0.0004, 0.0004, 0.0004, 0.0004, 0.0004, 0.0004, 0.0004, 0.0003, 0.0003, 0.0003, 0.0003, 0.0003, 0.0003, 0.0003, 0.0003, 0.0003, 0.0003, 0.0003, 0.0003, 0.0003, 0.0003, 0.0003, 0.0003, 0.0003, 0.0003, 0.0003, 0.0003, 0.0003, 0.0003, 0.0003, 0.0003, 0.0003, 0.0003, 0.0003, 0.0003, 0.0003, 0.0003, 0.0003, 0.0003, 0.0003, 0.0003, 0.0003, 0.0003, 0.0003, 0.0003, 0.0003, 0.0003, 0.0003, 0.0003, 0.0003, 0.0003, 0.0003, 0.0003, 0.0003, 0.0003, 0.0003, 0.0003, 0.0003, 0.0003, 0.0003, 0.0002, 0.0002, 0.0002, 0.0002, 0.0002, 0.0002, 0.0002, 0.0002, 0.0002, 0.0002, 0.0002, 0.0002, 0.0002, 0.0002, 0.0002, 0.0002, 0.0002, 0.0002, 0.0002, 0.0002, 0.0002, 0.0002, 0.0002, 0.0002, 0.0002, 0.0002, 0.0002, 0.0002, 0.0002, 0.0002, 0.0002, 0.0002, 0.0002, 0.0002, 0.0002, 0.0002, 0.0002, 0.0002, 0.0002, 0.0002, 0.0002, 0.0002, 0.0002, 0.0002, 0.0002, 0.0002, 0.0002, 0.0002, 0.0002, 0.0002, 0.0002, 0.0002, 0.0002, 0.0002, 0.0002, 0.0002, 0.0002, 0.0002, 0.0002, 0.0002, 0.0002, 0.0002, 0.0002, 0.0002, 0.0002, 0.0002, 0.0002, 0.0002, 0.0002, 0.0002, 0.0002, 0.0002, 0.0002, 0.0002, 0.0002, 0.0002, 0.0002, 0.0002, 0.0002, 0.0002, 0.0002, 0.0002, 0.0002, 0.0002, 0.0002, 0.0002, 0.0002, 0.0002, 0.0002, 0.0002, 0.0002, 0.0002, 0.0002, 0.0002, 0.0002, 0.0002, 0.0002, 0.0002, 0.0002, 0.0002, 0.0002, 0.0002, 0.0002, 0.0002, 0.0002, 0.0002, 0.0001, 0.0001, 0.0001, 0.0001, 0.0001, 0.0001, 0.0001, 0.0001, 0.0001, 0.0001, 0.0001, 0.0001, 0.0001, 0.0001, 0.0001, 0.0001, 0.0001, 0.0001, 0.0001, 0.0001, 0.0001, 0.0001, 0.0001, 0.0001, 0.0001, 0.0001, 0.0001, 0.0001, 0.0001, 0.0001, 0.0001, 0.0001, 0.0001, 0.0001, 0.0001, 0.0001, 0.0001, 0.0001, 0.0001, 0.0001, 0.0001, 0.0001, 0.0001, 0.0001, 0.0001, 0.0001, 0.0001, 0.0001, 0.0001, 0.0001, 0.0001, 0.0001, 0.0001, 0.0001, 0.0001, 0.0001, 0.0001, 0.0001, 0.0001, 0.0001, 0.0001, 0.0001, 0.0001, 0.0001, 0.0001, 0.0001, 0.0001, 0.0001, 0.0001, 0.0001, 0.0001, 0.0001, 0.0001, 0.0001, 0.0001, 0.0001, 0.0001, 0.0001, 0.0001, 0.0001, 0.0001, 0.0001, 0.0001, 0.0001, 0.0001, 0.0001, 0.0001, 0.0001, 0.0001, 0.0001, 0.0001, 0.0001, 0.0001, 0.0001, 0.0001, 0.0001, 0.0001, 0.0001, 0.0001, 0.0001, 0.0001, 0.0001, 0.0001, 0.0001, 0.0001, 0.0001, 0.0001, 0.0001, 0.0001, 0.0001, 0.0001, 0.0001, 0.0001, 0.0001, 0.0001, 0.0001, 0.0001, 0.0001, 0.0001, 0.0001, 0.0001, 0.0001, 0.0001, 0.0001, 0.0001, 0.0001, 0.0001, 0.0001, 0.0001, 0.0001, 0.0001, 0.0001, 0.0001, 0.0001, 0.0001, 0.0001, 0.0001, 0.0001, 0.0001, 0.0001, 0.0001, 0.0001, 0.0001, 0.0001, 0.0001, 0.0001, 0.0001, 0.0001, 0.0001, 0.0001, 0.0001, 0.0001, 0.0001, 0.0001, 0.0001, 0.0001, 0.0001, 0.0001, 0.0001, 0.0001, 0.0001, 0.0001, 0.0001, 0.0001, 0.0001, 0.0001, 0.0001, 0.0001, 0.0001, 0.0001, 0.0001, 0.0001, 0.0001, 0.0001, 0.0001, 0.0001, 0.0001, 0.0001, 0.0001, 0.0001, 0.0001, 0.0001, 0.0001, 0.0001, 0.0001, 0.0001, 0.0001, 0.0001, 0.0001, 0.0001, 0.0001, 0.0001, 0.0001, 0.0001, 0.0001, 0.0001, 0.0001, 0.0001, 0.0001, 0.0001, 0.0001, 0.0001, 0.0001, 0.0001, 0.0001, 0.0001, 0.0001, 0.0001, 0.0001, 0.0001, 0.0001, 0.0001, 0.0001, 0.0001, 0.0001, 0.0001, 0.0001, 0.0001, 0.0001, 0.0001, 0.0001, 0.0001, 0.0001, 0.0001, 0.0001, 0.0001, 0.0001, 0.0001, 0.0001, 0.0001, 0.0001, 0.0001, 0.0001, 0.0001, 0.0001, 0.0001, 0.0001, 0.0001, 0.0001, 0.0001, 0.0001, 0.0001, 0.0001, 0.0001, 0.0001, 0.0001, 0.0001, 0.0001, 0.0001, 0.0001, 0.0001, 0.0001, 0.0001, 0.0001, 0.0001, 0.0001, 0.0001, 0.0001, 0.0001, 0.0001, 0.0001, 0.0001, 0.0001, 0.0001, 0.0001, 0.0001, 0.0001, 0.0001, 0.0001, 0.0001, 0.0001, 0.0001, 0.0001, 0.0001, 0.0001, 0.0001, 0.0001, 0.0001, 0.0001, 0.0001, 0.0001, 0.0001, 0.0001, 0.0001, 0.0001, 0.0001, 0.0001, 0.0001, 0.0001, 0.0001, 0.0001, 0.0001, 0.0001, 0.0001, 0.0001, 0.0001, 0.0001, 0.0001, 0.0001, 0.0001, 0.0001, 0.0001, 0.0001, 0.0001, 0.0001, 0.0001, 0.0001, 0.0001, 0.0001, 0.0001, 0.0001, 0.0001, 0.0001, 0.0001, 0.0001, 0.0001, 0.0001, 0.0001, 0.0001, 0.0001, 0.0001, 0.0, 0.0, 0.0, 0.0, 0.0, 0.0, 0.0, 0.0, 0.0, 0.0, 0.0, 0.0, 0.0, 0.0, 0.0, 0.0, 0.0, 0.0, 0.0, 0.0, 0.0, 0.0, 0.0, 0.0, 0.0, 0.0, 0.0, 0.0, 0.0, 0.0, 0.0])"
     ]
    }
   ],
   "source": [
    "pca.explainedVariance"
   ]
  },
  {
   "cell_type": "code",
   "execution_count": 37,
   "id": "dbf41dc9",
   "metadata": {},
   "outputs": [
    {
     "data": {
      "application/vnd.jupyter.widget-view+json": {
       "model_id": "",
       "version_major": 2,
       "version_minor": 0
      },
      "text/plain": [
       "FloatProgress(value=0.0, bar_style='info', description='Progress:', layout=Layout(height='25px', width='50%'),…"
      ]
     },
     "metadata": {},
     "output_type": "display_data"
    },
    {
     "name": "stdout",
     "output_type": "stream",
     "text": [
      "array([0.10140993, 0.18146972, 0.24497274, 0.29512059, 0.33047488,\n",
      "       0.3596348 , 0.38736694, 0.41021583, 0.43007527, 0.4491668 ,\n",
      "       0.46570387, 0.48036675, 0.49434859, 0.50803436, 0.52138226,\n",
      "       0.5338826 , 0.54543343, 0.55618264, 0.56598301, 0.57569308,\n",
      "       0.58485138, 0.59313437, 0.60102209, 0.60852993, 0.61567809,\n",
      "       0.62275045, 0.62958686, 0.63580522, 0.64192727, 0.64781775,\n",
      "       0.6535209 , 0.65909672, 0.66437057, 0.66942059, 0.67420583,\n",
      "       0.67889421, 0.68348948, 0.68783587, 0.69207105, 0.69616312,\n",
      "       0.70006549, 0.70395477, 0.70779923, 0.71152293, 0.71515284,\n",
      "       0.71857504, 0.72197207, 0.72530281, 0.72859337, 0.73183042,\n",
      "       0.73502977, 0.73808652, 0.7410565 , 0.74393956, 0.74676961,\n",
      "       0.7495623 , 0.75231607, 0.75500415, 0.75760227, 0.76012722,\n",
      "       0.76260926, 0.76506099, 0.76741253, 0.76973087, 0.77202279,\n",
      "       0.77426796, 0.77646267, 0.77863137, 0.7807576 , 0.78287009,\n",
      "       0.7849326 , 0.78692533, 0.78885697, 0.79076406, 0.79263507,\n",
      "       0.79448029, 0.79628343, 0.79803471, 0.79978123, 0.80151154,\n",
      "       0.8032175 , 0.8049078 , 0.8065539 , 0.80817974, 0.80979979,\n",
      "       0.8113794 , 0.81293805, 0.81445318, 0.81596142, 0.81743942,\n",
      "       0.81888576, 0.82030812, 0.82172004, 0.82312514, 0.82451784,\n",
      "       0.8258813 , 0.8272395 , 0.82854603, 0.82983426, 0.8311113 ,\n",
      "       0.83236959, 0.83361451, 0.83485202, 0.83606682, 0.83726875,\n",
      "       0.83845617, 0.8396182 , 0.84077116, 0.84189791, 0.8430177 ,\n",
      "       0.84413311, 0.84521689, 0.8462925 , 0.84736451, 0.8484171 ,\n",
      "       0.84946245, 0.85049572, 0.85152406, 0.85252021, 0.85351189,\n",
      "       0.85449219, 0.85545008, 0.85639741, 0.85734295, 0.85827585,\n",
      "       0.85920308, 0.86012479, 0.86103324, 0.8619291 , 0.86281825,\n",
      "       0.86369433, 0.86455941, 0.86541535, 0.86625889, 0.86709596,\n",
      "       0.8679191 , 0.86873485, 0.86954769, 0.87035007, 0.8711413 ,\n",
      "       0.87192525, 0.87269948, 0.87346365, 0.87422301, 0.8749783 ,\n",
      "       0.87572803, 0.87646497, 0.87719465, 0.87791743, 0.87863874,\n",
      "       0.87935229, 0.88005087, 0.88074779, 0.88144028, 0.88212166,\n",
      "       0.8827998 , 0.88347194, 0.88413994, 0.88479871, 0.88545727,\n",
      "       0.88610399, 0.88674543, 0.88738388, 0.88801218, 0.88863327,\n",
      "       0.88925246, 0.88987076, 0.89047743, 0.89107857, 0.89167639,\n",
      "       0.89226836, 0.89285629, 0.89343477, 0.8940071 , 0.89457723,\n",
      "       0.89514353, 0.8957031 , 0.89626026, 0.89681138, 0.89735371,\n",
      "       0.8978949 , 0.89843366, 0.8989669 , 0.89949635, 0.90002104,\n",
      "       0.90053809, 0.9010539 , 0.90156651, 0.90207462, 0.90257913,\n",
      "       0.90307595, 0.90356721, 0.90405371, 0.90453678, 0.90501368,\n",
      "       0.90548721, 0.90595961, 0.90642886, 0.90689613, 0.90735743,\n",
      "       0.90781471, 0.90826816, 0.90871372, 0.90915734, 0.90959846,\n",
      "       0.9100362 , 0.91047192, 0.91090389, 0.91133437, 0.91176079,\n",
      "       0.91218416, 0.91260397, 0.9130202 , 0.91343457, 0.91384811,\n",
      "       0.91425572, 0.91466132, 0.91506377, 0.91546511, 0.91586398,\n",
      "       0.91625919, 0.91665265, 0.91704013, 0.91742603, 0.91781057,\n",
      "       0.91819148, 0.91857077, 0.91894708, 0.91932245, 0.91969401,\n",
      "       0.92006218, 0.92042939, 0.92079504, 0.92115712, 0.92151748,\n",
      "       0.92187574, 0.92223086, 0.92258455, 0.92293586, 0.92328198,\n",
      "       0.92362503, 0.92396621, 0.92430471, 0.92464206, 0.92497631,\n",
      "       0.92530907, 0.92563841, 0.92596689, 0.92629407, 0.92661863,\n",
      "       0.92694142, 0.92726026, 0.92757766, 0.92789256, 0.9282067 ,\n",
      "       0.92851901, 0.92882767, 0.92913487, 0.9294408 , 0.92974526,\n",
      "       0.93004814, 0.93034926, 0.93064904, 0.93094793, 0.93124532,\n",
      "       0.93154109, 0.93183513, 0.93212722, 0.93241782, 0.93270806,\n",
      "       0.93299563, 0.93328057, 0.93356469, 0.9338457 , 0.93412653,\n",
      "       0.93440366, 0.93467985, 0.93495361, 0.93522652, 0.93549634,\n",
      "       0.93576393, 0.93603099, 0.9362968 , 0.93656234, 0.9368263 ,\n",
      "       0.93708586, 0.93734488, 0.93760287, 0.93785946, 0.93811443,\n",
      "       0.93836862, 0.93862177, 0.93887144, 0.93911987, 0.93936708,\n",
      "       0.93961428, 0.93985963, 0.94010362, 0.94034654, 0.9405877 ,\n",
      "       0.9408272 , 0.94106552, 0.94130297, 0.94153863, 0.9417718 ,\n",
      "       0.94200397, 0.94223568, 0.942466  , 0.94269546, 0.94292397,\n",
      "       0.94315155, 0.94337733, 0.94360242, 0.9438264 , 0.94404862,\n",
      "       0.94427022, 0.94448992, 0.9447083 , 0.9449261 , 0.94514326,\n",
      "       0.94535823, 0.94557236, 0.94578539, 0.94599718, 0.94620795,\n",
      "       0.94641811, 0.94662625, 0.94683358, 0.94704006, 0.94724634,\n",
      "       0.94745041, 0.94765432, 0.94785678, 0.94805912, 0.94825985,\n",
      "       0.94845991, 0.94865894, 0.94885729, 0.94905487, 0.94925098,\n",
      "       0.94944678, 0.94964094, 0.94983429, 0.95002747, 0.9502185 ,\n",
      "       0.95040834, 0.95059759, 0.95078596, 0.95097341, 0.95116067,\n",
      "       0.95134664, 0.95153216, 0.95171543, 0.95189814, 0.95208064,\n",
      "       0.95226248, 0.95244329, 0.95262367, 0.95280332, 0.95298228,\n",
      "       0.95315943, 0.95333606, 0.95351201, 0.95368729, 0.95385992,\n",
      "       0.95403253, 0.95420429, 0.95437549, 0.95454602, 0.95471599,\n",
      "       0.95488492, 0.95505308, 0.95522009, 0.95538679, 0.95555248,\n",
      "       0.95571809, 0.9558828 , 0.95604718, 0.9562108 , 0.95637401,\n",
      "       0.95653577, 0.95669687, 0.9568574 , 0.95701707, 0.9571761 ,\n",
      "       0.95733394, 0.95749142, 0.95764845, 0.9578051 , 0.95796072,\n",
      "       0.9581159 , 0.95827057, 0.95842425, 0.95857753, 0.95873006,\n",
      "       0.95888191, 0.95903266, 0.95918325, 0.95933312, 0.95948243,\n",
      "       0.95963127, 0.95977939, 0.95992682, 0.96007359, 0.9602202 ,\n",
      "       0.96036634, 0.96051197, 0.96065611, 0.96080009, 0.96094275,\n",
      "       0.96108514, 0.96122669, 0.96136791, 0.96150852, 0.9616487 ,\n",
      "       0.96178846, 0.96192758, 0.96206648, 0.96220457, 0.96234212,\n",
      "       0.96247919, 0.96261584, 0.96275221, 0.96288756, 0.96302223,\n",
      "       0.96315634, 0.9632898 , 0.96342291, 0.96355526, 0.96368717,\n",
      "       0.96381874, 0.96394976, 0.96407998, 0.96421016, 0.96433948,\n",
      "       0.96446848, 0.9645966 , 0.96472436, 0.96485142, 0.96497829,\n",
      "       0.96510424, 0.96522976, 0.96535504, 0.96547967, 0.96560387,\n",
      "       0.96572757, 0.96585061, 0.96597305, 0.96609482, 0.96621644,\n",
      "       0.96633767, 0.96645859, 0.96657927, 0.96669966, 0.96681922,\n",
      "       0.96693847, 0.96705708, 0.96717489, 0.96729235, 0.9674096 ,\n",
      "       0.96752643, 0.96764306, 0.96775886, 0.9678745 , 0.96798925,\n",
      "       0.96810394, 0.96821845, 0.96833214, 0.96844546, 0.96855803,\n",
      "       0.96867017, 0.96878131, 0.96889225, 0.96900283, 0.96911324,\n",
      "       0.96922321, 0.96933288, 0.96944209, 0.96955071, 0.96965918,\n",
      "       0.96976715, 0.96987497, 0.96998212, 0.97008917, 0.97019592,\n",
      "       0.97030206, 0.97040785, 0.97051336, 0.97061864, 0.9707237 ,\n",
      "       0.97082785, 0.97093176, 0.97103527, 0.97113842, 0.97124106,\n",
      "       0.97134343, 0.97144569, 0.97154787, 0.97164949, 0.97175066,\n",
      "       0.97185165, 0.97195234, 0.97205264, 0.97215234, 0.9722518 ,\n",
      "       0.97235075, 0.97244942, 0.97254748, 0.97264511, 0.97274236,\n",
      "       0.97283937, 0.97293622, 0.97303254, 0.97312853, 0.97322435,\n",
      "       0.97331988, 0.97341481, 0.97350951, 0.97360409, 0.97369863,\n",
      "       0.97379281, 0.97388689, 0.97398039, 0.97407357, 0.97416647,\n",
      "       0.9742588 , 0.97435095, 0.97444269, 0.97453418, 0.97462529,\n",
      "       0.97471617, 0.97480673, 0.9748971 , 0.97498708, 0.97507686,\n",
      "       0.97516639, 0.97525578, 0.97534499, 0.97543358, 0.97552195,\n",
      "       0.97560964, 0.97569702, 0.97578422, 0.97587117, 0.97595798,\n",
      "       0.97604435, 0.9761305 , 0.97621664, 0.97630233, 0.97638772,\n",
      "       0.97647275, 0.97655748, 0.97664182, 0.97672582, 0.97680979,\n",
      "       0.97689343, 0.97697659, 0.9770595 , 0.9771422 , 0.97722478,\n",
      "       0.97730727, 0.97738916, 0.97747072, 0.97755211, 0.97763332,\n",
      "       0.97771423, 0.97779499, 0.97787556, 0.97795572, 0.97803557,\n",
      "       0.97811515, 0.97819448, 0.97827334, 0.97835214, 0.97843065,\n",
      "       0.97850909, 0.97858701, 0.97866451, 0.97874179, 0.97881906,\n",
      "       0.97889602, 0.97897269, 0.97904903, 0.97912527, 0.97920138,\n",
      "       0.97927707, 0.97935269, 0.979428  , 0.97950308, 0.97957786,\n",
      "       0.97965255, 0.97972719, 0.97980164, 0.97987586, 0.97994967,\n",
      "       0.98002332, 0.98009679, 0.98017008, 0.98024309, 0.98031592,\n",
      "       0.98038844, 0.98046084, 0.98053283, 0.98060466, 0.9806763 ,\n",
      "       0.98074751, 0.98081858, 0.98088937, 0.98096001, 0.98103042,\n",
      "       0.98110047, 0.98117049, 0.98124034, 0.98130958, 0.98137857,\n",
      "       0.98144734, 0.98151601, 0.9815845 , 0.98165271, 0.98172063,\n",
      "       0.98178836, 0.98185589, 0.98192321, 0.98199051, 0.98205752,\n",
      "       0.98212431, 0.98219091, 0.98225736, 0.98232358, 0.98238961,\n",
      "       0.9824556 , 0.98252136, 0.98258692, 0.98265221, 0.98271727,\n",
      "       0.9827819 , 0.98284629, 0.98291054, 0.98297467, 0.98303874,\n",
      "       0.98310262, 0.98316632, 0.98322969, 0.98329264, 0.98335553,\n",
      "       0.98341822, 0.98348073, 0.98354285, 0.98360481, 0.98366666,\n",
      "       0.98372839, 0.98378988, 0.98385123, 0.98391237, 0.98397336,\n",
      "       0.98403418, 0.98409499, 0.98415552, 0.98421594, 0.98427618,\n",
      "       0.98433616, 0.98439602, 0.98445564, 0.98451506, 0.98457435,\n",
      "       0.98463351, 0.98469257, 0.9847515 , 0.98481035, 0.98486883,\n",
      "       0.98492706, 0.98498507, 0.98504298, 0.98510077, 0.98515831,\n",
      "       0.98521565, 0.98527281, 0.98532983, 0.9853867 , 0.98544335,\n",
      "       0.98549985, 0.98555624, 0.98561253, 0.98566846, 0.98572407,\n",
      "       0.98577959, 0.98583495, 0.98589015, 0.98594527, 0.9860002 ,\n",
      "       0.98605502, 0.98610947, 0.98616373, 0.98621774, 0.98627159,\n",
      "       0.98632528, 0.98637889, 0.98643211, 0.98648527, 0.98653824,\n",
      "       0.98659111, 0.98664386, 0.98669634, 0.98674873, 0.98680106,\n",
      "       0.98685302, 0.98690482, 0.98695658, 0.9870082 , 0.98705969,\n",
      "       0.98711112, 0.98716215, 0.98721304, 0.98726373, 0.98731431,\n",
      "       0.98736486, 0.98741523, 0.98746547, 0.98751555, 0.98756551,\n",
      "       0.98761528, 0.98766502, 0.98771466, 0.98776408, 0.98781344,\n",
      "       0.98786249, 0.9879114 , 0.98796017, 0.98800879, 0.98805731,\n",
      "       0.9881057 , 0.98815396, 0.98820209, 0.98825009, 0.98829796,\n",
      "       0.98834575, 0.9883934 , 0.9884409 , 0.98848819, 0.98853532,\n",
      "       0.98858244, 0.98862942, 0.98867629, 0.98872296, 0.98876948,\n",
      "       0.98881591, 0.98886219, 0.98890837, 0.98895423, 0.98899998])"
     ]
    }
   ],
   "source": [
    "np.cumsum(pca.explainedVariance)"
   ]
  },
  {
   "cell_type": "code",
   "execution_count": 33,
   "id": "5ac419b0",
   "metadata": {},
   "outputs": [
    {
     "data": {
      "application/vnd.jupyter.widget-view+json": {
       "model_id": "",
       "version_major": 2,
       "version_minor": 0
      },
      "text/plain": [
       "FloatProgress(value=0.0, bar_style='info', description='Progress:', layout=Layout(height='25px', width='50%'),…"
      ]
     },
     "metadata": {},
     "output_type": "display_data"
    },
    {
     "name": "stdout",
     "output_type": "stream",
     "text": [
      "+--------------------+--------------------+\n",
      "|            features|         pcaFeatures|\n",
      "+--------------------+--------------------+\n",
      "|[0.0,0.9346336722...|[-2.7870339018409...|\n",
      "|[1.31945967674255...|[-2.5390918716231...|\n",
      "|[0.52961301803588...|[-4.6429835607350...|\n",
      "|[0.0,4.5126256942...|[-5.8523372512992...|\n",
      "|[0.00799433700740...|[-6.0254677295371...|\n",
      "|[0.04449297487735...|[-3.4015426145020...|\n",
      "|[0.00461275922134...|[-2.2765656132952...|\n",
      "|[0.0,0.2693336904...|[0.73589999249634...|\n",
      "|[0.0,1.0986049175...|[-4.1329483208380...|\n",
      "|[0.0,0.4306903779...|[-4.4896372468841...|\n",
      "|[0.01588310301303...|[-0.4455515374955...|\n",
      "|[0.09707429260015...|[-1.0467383878491...|\n",
      "|[1.65572965145111...|[0.58033100507965...|\n",
      "|[0.02456750161945...|[-4.8309496801690...|\n",
      "|[0.06463862210512...|[-0.1297775569271...|\n",
      "|[0.04984579607844...|[-7.1077086590428...|\n",
      "|[0.0,0.0465781427...|[-2.8010905413473...|\n",
      "|[0.0,0.0279957950...|[-3.1137810070018...|\n",
      "|[0.0,0.0059984656...|[-3.0946362447205...|\n",
      "|[0.0,3.9508583545...|[-3.1267996825899...|\n",
      "+--------------------+--------------------+\n",
      "only showing top 20 rows"
     ]
    }
   ],
   "source": [
    "df750.show()"
   ]
  },
  {
   "cell_type": "code",
   "execution_count": null,
   "id": "d40b56ab",
   "metadata": {},
   "outputs": [],
   "source": []
  },
  {
   "cell_type": "code",
   "execution_count": 38,
   "id": "9eab2a17",
   "metadata": {},
   "outputs": [
    {
     "data": {
      "application/vnd.jupyter.widget-view+json": {
       "model_id": "",
       "version_major": 2,
       "version_minor": 0
      },
      "text/plain": [
       "FloatProgress(value=0.0, bar_style='info', description='Progress:', layout=Layout(height='25px', width='50%'),…"
      ]
     },
     "metadata": {},
     "output_type": "display_data"
    }
   ],
   "source": [
    "#start = time.time()\n",
    "n_components = 1000\n",
    "pca = PCA(\n",
    "    k = n_components, \n",
    "    inputCol = 'features', \n",
    "    outputCol = 'pcaFeatures'\n",
    ").fit(df2)\n",
    "df1000 = pca.transform(df2)\n",
    "\n",
    "#end = time.time()\n",
    "#print(end - start)"
   ]
  },
  {
   "cell_type": "code",
   "execution_count": 40,
   "id": "f11c4d20",
   "metadata": {},
   "outputs": [
    {
     "data": {
      "application/vnd.jupyter.widget-view+json": {
       "model_id": "",
       "version_major": 2,
       "version_minor": 0
      },
      "text/plain": [
       "FloatProgress(value=0.0, bar_style='info', description='Progress:', layout=Layout(height='25px', width='50%'),…"
      ]
     },
     "metadata": {},
     "output_type": "display_data"
    },
    {
     "name": "stdout",
     "output_type": "stream",
     "text": [
      "+--------------------+--------------------+\n",
      "|            features|         pcaFeatures|\n",
      "+--------------------+--------------------+\n",
      "|[0.0,0.9346336722...|[-2.7870339018409...|\n",
      "|[1.31945967674255...|[-2.5390918716231...|\n",
      "|[0.52961301803588...|[-4.6429835607350...|\n",
      "|[0.0,4.5126256942...|[-5.8523372512992...|\n",
      "|[0.00799433700740...|[-6.0254677295371...|\n",
      "|[0.04449297487735...|[-3.4015426145020...|\n",
      "|[0.00461275922134...|[-2.2765656132952...|\n",
      "|[0.0,0.2693336904...|[0.73589999249634...|\n",
      "|[0.0,1.0986049175...|[-4.1329483208380...|\n",
      "|[0.0,0.4306903779...|[-4.4896372468841...|\n",
      "|[0.01588310301303...|[-0.4455515374955...|\n",
      "|[0.09707429260015...|[-1.0467383878491...|\n",
      "|[1.65572965145111...|[0.58033100507965...|\n",
      "|[0.02456750161945...|[-4.8309496801690...|\n",
      "|[0.06463862210512...|[-0.1297775569271...|\n",
      "|[0.04984579607844...|[-7.1077086590428...|\n",
      "|[0.0,0.0465781427...|[-2.8010905413473...|\n",
      "|[0.0,0.0279957950...|[-3.1137810070018...|\n",
      "|[0.0,0.0059984656...|[-3.0946362447205...|\n",
      "|[0.0,3.9508583545...|[-3.1267996825899...|\n",
      "+--------------------+--------------------+\n",
      "only showing top 20 rows"
     ]
    }
   ],
   "source": [
    "df1000.show()"
   ]
  },
  {
   "cell_type": "code",
   "execution_count": 39,
   "id": "87040e5c",
   "metadata": {},
   "outputs": [
    {
     "data": {
      "application/vnd.jupyter.widget-view+json": {
       "model_id": "",
       "version_major": 2,
       "version_minor": 0
      },
      "text/plain": [
       "FloatProgress(value=0.0, bar_style='info', description='Progress:', layout=Layout(height='25px', width='50%'),…"
      ]
     },
     "metadata": {},
     "output_type": "display_data"
    },
    {
     "name": "stdout",
     "output_type": "stream",
     "text": [
      "array([0.10140993, 0.18146972, 0.24497274, 0.29512059, 0.33047488,\n",
      "       0.3596348 , 0.38736694, 0.41021583, 0.43007527, 0.4491668 ,\n",
      "       0.46570387, 0.48036675, 0.49434859, 0.50803436, 0.52138226,\n",
      "       0.5338826 , 0.54543343, 0.55618264, 0.56598301, 0.57569308,\n",
      "       0.58485138, 0.59313437, 0.60102209, 0.60852993, 0.61567809,\n",
      "       0.62275045, 0.62958686, 0.63580522, 0.64192727, 0.64781775,\n",
      "       0.6535209 , 0.65909672, 0.66437057, 0.66942059, 0.67420583,\n",
      "       0.67889421, 0.68348948, 0.68783587, 0.69207105, 0.69616312,\n",
      "       0.70006549, 0.70395477, 0.70779923, 0.71152293, 0.71515284,\n",
      "       0.71857504, 0.72197207, 0.72530281, 0.72859337, 0.73183042,\n",
      "       0.73502977, 0.73808652, 0.7410565 , 0.74393956, 0.74676961,\n",
      "       0.7495623 , 0.75231607, 0.75500415, 0.75760227, 0.76012722,\n",
      "       0.76260926, 0.76506099, 0.76741253, 0.76973087, 0.77202279,\n",
      "       0.77426796, 0.77646267, 0.77863137, 0.7807576 , 0.78287009,\n",
      "       0.7849326 , 0.78692533, 0.78885697, 0.79076406, 0.79263507,\n",
      "       0.79448029, 0.79628343, 0.79803471, 0.79978123, 0.80151154,\n",
      "       0.8032175 , 0.8049078 , 0.8065539 , 0.80817974, 0.80979979,\n",
      "       0.8113794 , 0.81293805, 0.81445318, 0.81596142, 0.81743942,\n",
      "       0.81888576, 0.82030812, 0.82172004, 0.82312514, 0.82451784,\n",
      "       0.8258813 , 0.8272395 , 0.82854603, 0.82983426, 0.8311113 ,\n",
      "       0.83236959, 0.83361451, 0.83485202, 0.83606682, 0.83726875,\n",
      "       0.83845617, 0.8396182 , 0.84077116, 0.84189791, 0.8430177 ,\n",
      "       0.84413311, 0.84521689, 0.8462925 , 0.84736451, 0.8484171 ,\n",
      "       0.84946245, 0.85049572, 0.85152406, 0.85252021, 0.85351189,\n",
      "       0.85449219, 0.85545008, 0.85639741, 0.85734295, 0.85827585,\n",
      "       0.85920308, 0.86012479, 0.86103324, 0.8619291 , 0.86281825,\n",
      "       0.86369433, 0.86455941, 0.86541535, 0.86625889, 0.86709596,\n",
      "       0.8679191 , 0.86873485, 0.86954769, 0.87035007, 0.8711413 ,\n",
      "       0.87192525, 0.87269948, 0.87346365, 0.87422301, 0.8749783 ,\n",
      "       0.87572803, 0.87646497, 0.87719465, 0.87791743, 0.87863874,\n",
      "       0.87935229, 0.88005087, 0.88074779, 0.88144028, 0.88212166,\n",
      "       0.8827998 , 0.88347194, 0.88413994, 0.88479871, 0.88545727,\n",
      "       0.88610399, 0.88674543, 0.88738388, 0.88801218, 0.88863327,\n",
      "       0.88925246, 0.88987076, 0.89047743, 0.89107857, 0.89167639,\n",
      "       0.89226836, 0.89285629, 0.89343477, 0.8940071 , 0.89457723,\n",
      "       0.89514353, 0.8957031 , 0.89626026, 0.89681138, 0.89735371,\n",
      "       0.8978949 , 0.89843366, 0.8989669 , 0.89949635, 0.90002104,\n",
      "       0.90053809, 0.9010539 , 0.90156651, 0.90207462, 0.90257913,\n",
      "       0.90307595, 0.90356721, 0.90405371, 0.90453678, 0.90501368,\n",
      "       0.90548721, 0.90595961, 0.90642886, 0.90689613, 0.90735743,\n",
      "       0.90781471, 0.90826816, 0.90871372, 0.90915734, 0.90959846,\n",
      "       0.9100362 , 0.91047192, 0.91090389, 0.91133437, 0.91176079,\n",
      "       0.91218416, 0.91260397, 0.9130202 , 0.91343457, 0.91384811,\n",
      "       0.91425572, 0.91466132, 0.91506377, 0.91546511, 0.91586398,\n",
      "       0.91625919, 0.91665265, 0.91704013, 0.91742603, 0.91781057,\n",
      "       0.91819148, 0.91857077, 0.91894708, 0.91932245, 0.91969401,\n",
      "       0.92006218, 0.92042939, 0.92079504, 0.92115712, 0.92151748,\n",
      "       0.92187574, 0.92223086, 0.92258455, 0.92293586, 0.92328198,\n",
      "       0.92362503, 0.92396621, 0.92430471, 0.92464206, 0.92497631,\n",
      "       0.92530907, 0.92563841, 0.92596689, 0.92629407, 0.92661863,\n",
      "       0.92694142, 0.92726026, 0.92757766, 0.92789256, 0.9282067 ,\n",
      "       0.92851901, 0.92882767, 0.92913487, 0.9294408 , 0.92974526,\n",
      "       0.93004814, 0.93034926, 0.93064904, 0.93094793, 0.93124532,\n",
      "       0.93154109, 0.93183513, 0.93212722, 0.93241782, 0.93270806,\n",
      "       0.93299563, 0.93328057, 0.93356469, 0.9338457 , 0.93412653,\n",
      "       0.93440366, 0.93467985, 0.93495361, 0.93522652, 0.93549634,\n",
      "       0.93576393, 0.93603099, 0.9362968 , 0.93656234, 0.9368263 ,\n",
      "       0.93708586, 0.93734488, 0.93760287, 0.93785946, 0.93811443,\n",
      "       0.93836862, 0.93862177, 0.93887144, 0.93911987, 0.93936708,\n",
      "       0.93961428, 0.93985963, 0.94010362, 0.94034654, 0.9405877 ,\n",
      "       0.9408272 , 0.94106552, 0.94130297, 0.94153863, 0.9417718 ,\n",
      "       0.94200397, 0.94223568, 0.942466  , 0.94269546, 0.94292397,\n",
      "       0.94315155, 0.94337733, 0.94360242, 0.9438264 , 0.94404862,\n",
      "       0.94427022, 0.94448992, 0.9447083 , 0.9449261 , 0.94514326,\n",
      "       0.94535823, 0.94557236, 0.94578539, 0.94599718, 0.94620795,\n",
      "       0.94641811, 0.94662625, 0.94683358, 0.94704006, 0.94724634,\n",
      "       0.94745041, 0.94765432, 0.94785678, 0.94805912, 0.94825985,\n",
      "       0.94845991, 0.94865894, 0.94885729, 0.94905487, 0.94925098,\n",
      "       0.94944678, 0.94964094, 0.94983429, 0.95002747, 0.9502185 ,\n",
      "       0.95040834, 0.95059759, 0.95078596, 0.95097341, 0.95116067,\n",
      "       0.95134664, 0.95153216, 0.95171543, 0.95189814, 0.95208064,\n",
      "       0.95226248, 0.95244329, 0.95262367, 0.95280332, 0.95298228,\n",
      "       0.95315943, 0.95333606, 0.95351201, 0.95368729, 0.95385992,\n",
      "       0.95403253, 0.95420429, 0.95437549, 0.95454602, 0.95471599,\n",
      "       0.95488492, 0.95505308, 0.95522009, 0.95538679, 0.95555248,\n",
      "       0.95571809, 0.9558828 , 0.95604718, 0.9562108 , 0.95637401,\n",
      "       0.95653577, 0.95669687, 0.9568574 , 0.95701707, 0.9571761 ,\n",
      "       0.95733394, 0.95749142, 0.95764845, 0.9578051 , 0.95796072,\n",
      "       0.9581159 , 0.95827057, 0.95842425, 0.95857753, 0.95873006,\n",
      "       0.95888191, 0.95903266, 0.95918325, 0.95933312, 0.95948243,\n",
      "       0.95963127, 0.95977939, 0.95992682, 0.96007359, 0.9602202 ,\n",
      "       0.96036634, 0.96051197, 0.96065611, 0.96080009, 0.96094275,\n",
      "       0.96108514, 0.96122669, 0.96136791, 0.96150852, 0.9616487 ,\n",
      "       0.96178846, 0.96192758, 0.96206648, 0.96220457, 0.96234212,\n",
      "       0.96247919, 0.96261584, 0.96275221, 0.96288756, 0.96302223,\n",
      "       0.96315634, 0.9632898 , 0.96342291, 0.96355526, 0.96368717,\n",
      "       0.96381874, 0.96394976, 0.96407998, 0.96421016, 0.96433948,\n",
      "       0.96446848, 0.9645966 , 0.96472436, 0.96485142, 0.96497829,\n",
      "       0.96510424, 0.96522976, 0.96535504, 0.96547967, 0.96560387,\n",
      "       0.96572757, 0.96585061, 0.96597305, 0.96609482, 0.96621644,\n",
      "       0.96633767, 0.96645859, 0.96657927, 0.96669966, 0.96681922,\n",
      "       0.96693847, 0.96705708, 0.96717489, 0.96729235, 0.9674096 ,\n",
      "       0.96752643, 0.96764306, 0.96775886, 0.9678745 , 0.96798925,\n",
      "       0.96810394, 0.96821845, 0.96833214, 0.96844546, 0.96855803,\n",
      "       0.96867017, 0.96878131, 0.96889225, 0.96900283, 0.96911324,\n",
      "       0.96922321, 0.96933288, 0.96944209, 0.96955071, 0.96965918,\n",
      "       0.96976715, 0.96987497, 0.96998212, 0.97008917, 0.97019592,\n",
      "       0.97030206, 0.97040785, 0.97051336, 0.97061864, 0.9707237 ,\n",
      "       0.97082785, 0.97093176, 0.97103527, 0.97113842, 0.97124106,\n",
      "       0.97134343, 0.97144569, 0.97154787, 0.97164949, 0.97175066,\n",
      "       0.97185165, 0.97195234, 0.97205264, 0.97215234, 0.9722518 ,\n",
      "       0.97235075, 0.97244942, 0.97254748, 0.97264511, 0.97274236,\n",
      "       0.97283937, 0.97293622, 0.97303254, 0.97312853, 0.97322435,\n",
      "       0.97331988, 0.97341481, 0.97350951, 0.97360409, 0.97369863,\n",
      "       0.97379281, 0.97388689, 0.97398039, 0.97407357, 0.97416647,\n",
      "       0.9742588 , 0.97435095, 0.97444269, 0.97453418, 0.97462529,\n",
      "       0.97471617, 0.97480673, 0.9748971 , 0.97498708, 0.97507686,\n",
      "       0.97516639, 0.97525578, 0.97534499, 0.97543358, 0.97552195,\n",
      "       0.97560964, 0.97569702, 0.97578422, 0.97587117, 0.97595798,\n",
      "       0.97604435, 0.9761305 , 0.97621664, 0.97630233, 0.97638772,\n",
      "       0.97647275, 0.97655748, 0.97664182, 0.97672582, 0.97680979,\n",
      "       0.97689343, 0.97697659, 0.9770595 , 0.9771422 , 0.97722478,\n",
      "       0.97730727, 0.97738916, 0.97747072, 0.97755211, 0.97763332,\n",
      "       0.97771423, 0.97779499, 0.97787556, 0.97795572, 0.97803557,\n",
      "       0.97811515, 0.97819448, 0.97827334, 0.97835214, 0.97843065,\n",
      "       0.97850909, 0.97858701, 0.97866451, 0.97874179, 0.97881906,\n",
      "       0.97889602, 0.97897269, 0.97904903, 0.97912527, 0.97920138,\n",
      "       0.97927707, 0.97935269, 0.979428  , 0.97950308, 0.97957786,\n",
      "       0.97965255, 0.97972719, 0.97980164, 0.97987586, 0.97994967,\n",
      "       0.98002332, 0.98009679, 0.98017008, 0.98024309, 0.98031592,\n",
      "       0.98038844, 0.98046084, 0.98053283, 0.98060466, 0.9806763 ,\n",
      "       0.98074751, 0.98081858, 0.98088937, 0.98096001, 0.98103042,\n",
      "       0.98110047, 0.98117049, 0.98124034, 0.98130958, 0.98137857,\n",
      "       0.98144734, 0.98151601, 0.9815845 , 0.98165271, 0.98172063,\n",
      "       0.98178836, 0.98185589, 0.98192321, 0.98199051, 0.98205752,\n",
      "       0.98212431, 0.98219091, 0.98225736, 0.98232358, 0.98238961,\n",
      "       0.9824556 , 0.98252136, 0.98258692, 0.98265221, 0.98271727,\n",
      "       0.9827819 , 0.98284629, 0.98291054, 0.98297467, 0.98303874,\n",
      "       0.98310262, 0.98316632, 0.98322969, 0.98329264, 0.98335553,\n",
      "       0.98341822, 0.98348073, 0.98354285, 0.98360481, 0.98366666,\n",
      "       0.98372839, 0.98378988, 0.98385123, 0.98391237, 0.98397336,\n",
      "       0.98403418, 0.98409499, 0.98415552, 0.98421594, 0.98427618,\n",
      "       0.98433616, 0.98439602, 0.98445564, 0.98451506, 0.98457435,\n",
      "       0.98463351, 0.98469257, 0.9847515 , 0.98481035, 0.98486883,\n",
      "       0.98492706, 0.98498507, 0.98504298, 0.98510077, 0.98515831,\n",
      "       0.98521565, 0.98527281, 0.98532983, 0.9853867 , 0.98544335,\n",
      "       0.98549985, 0.98555624, 0.98561253, 0.98566846, 0.98572407,\n",
      "       0.98577959, 0.98583495, 0.98589015, 0.98594527, 0.9860002 ,\n",
      "       0.98605502, 0.98610947, 0.98616373, 0.98621774, 0.98627159,\n",
      "       0.98632528, 0.98637889, 0.98643211, 0.98648527, 0.98653824,\n",
      "       0.98659111, 0.98664386, 0.98669634, 0.98674873, 0.98680106,\n",
      "       0.98685302, 0.98690482, 0.98695658, 0.9870082 , 0.98705969,\n",
      "       0.98711112, 0.98716215, 0.98721304, 0.98726373, 0.98731431,\n",
      "       0.98736486, 0.98741523, 0.98746547, 0.98751555, 0.98756551,\n",
      "       0.98761528, 0.98766502, 0.98771466, 0.98776408, 0.98781344,\n",
      "       0.98786249, 0.9879114 , 0.98796017, 0.98800879, 0.98805731,\n",
      "       0.9881057 , 0.98815396, 0.98820209, 0.98825009, 0.98829796,\n",
      "       0.98834575, 0.9883934 , 0.9884409 , 0.98848819, 0.98853532,\n",
      "       0.98858244, 0.98862942, 0.98867629, 0.98872296, 0.98876948,\n",
      "       0.98881591, 0.98886219, 0.98890837, 0.98895423, 0.98899998,\n",
      "       0.98904568, 0.98909117, 0.98913652, 0.98918179, 0.98922701,\n",
      "       0.98927204, 0.98931695, 0.98936174, 0.98940639, 0.98945093,\n",
      "       0.98949534, 0.98953972, 0.98958392, 0.989628  , 0.98967191,\n",
      "       0.98971553, 0.98975904, 0.9898025 , 0.98984578, 0.98988903,\n",
      "       0.98993191, 0.98997469, 0.99001745, 0.99006013, 0.99010252,\n",
      "       0.99014489, 0.99018712, 0.99022927, 0.99027131, 0.9903132 ,\n",
      "       0.99035495, 0.99039654, 0.99043799, 0.9904793 , 0.99052058,\n",
      "       0.99056179, 0.99060262, 0.99064339, 0.99068403, 0.99072457,\n",
      "       0.99076498, 0.99080525, 0.99084551, 0.99088572, 0.99092574,\n",
      "       0.99096559, 0.99100536, 0.99104503, 0.9910845 , 0.9911238 ,\n",
      "       0.99116306, 0.99120211, 0.99124106, 0.9912799 , 0.99131871,\n",
      "       0.9913574 , 0.99139602, 0.99143447, 0.99147285, 0.99151115,\n",
      "       0.99154937, 0.99158741, 0.99162519, 0.99166296, 0.99170061,\n",
      "       0.99173804, 0.99177546, 0.99181287, 0.99185019, 0.99188736,\n",
      "       0.9919243 , 0.99196118, 0.99199782, 0.99203439, 0.99207091,\n",
      "       0.99210736, 0.99214374, 0.99217997, 0.99221614, 0.9922522 ,\n",
      "       0.9922882 , 0.99232408, 0.99235992, 0.99239553, 0.99243108,\n",
      "       0.99246654, 0.99250194, 0.99253712, 0.99257212, 0.99260701,\n",
      "       0.99264185, 0.99267664, 0.99271126, 0.99274578, 0.9927801 ,\n",
      "       0.99281437, 0.99284855, 0.99288254, 0.99291651, 0.99295038,\n",
      "       0.9929841 , 0.99301772, 0.99305131, 0.99308468, 0.993118  ,\n",
      "       0.99315127, 0.99318433, 0.9932173 , 0.99325016, 0.99328297,\n",
      "       0.99331559, 0.99334804, 0.99338045, 0.99341279, 0.99344505,\n",
      "       0.99347726, 0.99350939, 0.99354136, 0.99357327, 0.99360506,\n",
      "       0.99363676, 0.99366829, 0.99369969, 0.993731  , 0.99376217,\n",
      "       0.99379331, 0.99382436, 0.99385522, 0.99388602, 0.99391671,\n",
      "       0.99394735, 0.99397789, 0.99400832, 0.99403864, 0.99406887,\n",
      "       0.99409904, 0.99412913, 0.99415909, 0.99418901, 0.99421892,\n",
      "       0.9942486 , 0.99427827, 0.99430782, 0.99433724, 0.99436665,\n",
      "       0.99439589, 0.9944251 , 0.99445421, 0.9944832 , 0.99451212,\n",
      "       0.99454093, 0.99456967, 0.99459835, 0.99462688, 0.99465538,\n",
      "       0.99468382, 0.99471215, 0.99474035, 0.99476835, 0.9947963 ,\n",
      "       0.99482418, 0.994852  , 0.9948797 , 0.99490731, 0.99493489,\n",
      "       0.99496245, 0.99498986, 0.99501721, 0.99504444, 0.99507158,\n",
      "       0.99509869, 0.99512567, 0.99515254, 0.99517936, 0.99520616,\n",
      "       0.99523282, 0.99525934, 0.99528581, 0.99531221, 0.99533852,\n",
      "       0.99536472, 0.99539081, 0.99541683, 0.99544274, 0.99546857,\n",
      "       0.99549429, 0.99551994, 0.99554554, 0.99557101, 0.99559638,\n",
      "       0.9956217 , 0.99564685, 0.99567191, 0.9956969 , 0.99572181,\n",
      "       0.99574662, 0.9957713 , 0.99579588, 0.99582043, 0.99584491,\n",
      "       0.99586937, 0.9958937 , 0.99591797, 0.99594216, 0.99596627,\n",
      "       0.9959903 , 0.99601428, 0.99603816, 0.99606188, 0.99608557,\n",
      "       0.9961092 , 0.99613273, 0.99615621, 0.99617962, 0.99620294,\n",
      "       0.99622618, 0.99624933, 0.99627241, 0.99629542, 0.99631832,\n",
      "       0.99634111, 0.99636384, 0.99638642, 0.99640898, 0.9964315 ,\n",
      "       0.99645394, 0.99647625, 0.99649834, 0.99652039, 0.99654235,\n",
      "       0.99656432, 0.99658623, 0.99660808, 0.99662978, 0.99665147,\n",
      "       0.99667305, 0.99669459, 0.99671605, 0.99673737, 0.99675864,\n",
      "       0.99677979, 0.99680088, 0.99682193, 0.99684292, 0.99686382,\n",
      "       0.99688458, 0.99690526, 0.99692584, 0.99694634, 0.99696677])"
     ]
    }
   ],
   "source": [
    "np.cumsum(pca.explainedVariance)"
   ]
  },
  {
   "cell_type": "markdown",
   "id": "e673f9ea",
   "metadata": {},
   "source": [
    "# Recuperer les features"
   ]
  },
  {
   "cell_type": "code",
   "execution_count": 48,
   "id": "039c5de6",
   "metadata": {},
   "outputs": [
    {
     "data": {
      "application/vnd.jupyter.widget-view+json": {
       "model_id": "",
       "version_major": 2,
       "version_minor": 0
      },
      "text/plain": [
       "FloatProgress(value=0.0, bar_style='info', description='Progress:', layout=Layout(height='25px', width='50%'),…"
      ]
     },
     "metadata": {},
     "output_type": "display_data"
    }
   ],
   "source": [
    "df1000.write.mode(\"overwrite\").parquet(PATH+\"/pcaFeature1000.parquet\")"
   ]
  }
 ],
 "metadata": {
  "kernelspec": {
   "display_name": "PySpark",
   "language": "python",
   "name": "pysparkkernel"
  },
  "language_info": {
   "codemirror_mode": {
    "name": "python",
    "version": 3
   },
   "file_extension": ".py",
   "mimetype": "text/x-python",
   "name": "pyspark",
   "pygments_lexer": "python3"
  },
  "toc": {
   "base_numbering": 1,
   "nav_menu": {},
   "number_sections": true,
   "sideBar": true,
   "skip_h1_title": false,
   "title_cell": "Table of Contents",
   "title_sidebar": "Contents",
   "toc_cell": false,
   "toc_position": {
    "height": "calc(100% - 180px)",
    "left": "10px",
    "top": "150px",
    "width": "432.4px"
   },
   "toc_section_display": true,
   "toc_window_display": true
  }
 },
 "nbformat": 4,
 "nbformat_minor": 5
}
